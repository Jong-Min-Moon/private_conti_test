{
 "cells": [
  {
   "cell_type": "code",
   "execution_count": 31,
   "id": "d5630fa7-0068-4b60-b463-400326a31172",
   "metadata": {},
   "outputs": [],
   "source": [
    "import torch"
   ]
  },
  {
   "cell_type": "code",
   "execution_count": 59,
   "id": "1062168d-edd0-43cc-8371-d04db40af593",
   "metadata": {},
   "outputs": [],
   "source": [
    "def TransformIntervalIndex(data, nIntervals):\n",
    "  # for each dimension, transform the data in [0,1] into the interval index\n",
    "  # first interval = [0, x], the others = (y z]\n",
    "    \n",
    "    # data: torch tensor object\n",
    "    # n.intervals: integer\n",
    "  \n",
    "  # create designated number of intervals\n",
    "    if data.dim() == 1:\n",
    "        d = 1\n",
    "    elif data.dim() == 2:\n",
    "        d = data.size(dim = 1)\n",
    "    else:\n",
    "        return # we only use up to 2-dimensional tensor\n",
    "\n",
    "    breaks = torch.linspace(start = 0, end = 1, steps = nIntervals + 1)\n",
    "    dataIndices = torch.bucketize(data, breaks, right = False) # ( ] form.\n",
    "    dataIndices = dataIndices + (dataIndices==0) #move 0 values from the bin number 0 to the bin number 1\n",
    "    return(dataIndices)\n"
   ]
  },
  {
   "cell_type": "code",
   "execution_count": 77,
   "id": "3d1a096c-98e3-4010-8b0c-49f5072fd67b",
   "metadata": {},
   "outputs": [],
   "source": [
    "data = torch.tensor(\n",
    "[\n",
    "[0.19901582, 0.29330425, 0.08031318, 0.27744206],\n",
    "[0.38371595, 0.07725842, 0.58872328, 0.60947456],\n",
    "[0.78765378, 0.18596928, 0.20049580, 0.04321161],\n",
    "[0.60499579, 0.38050702, 0.26301983, 0.58410214],\n",
    "[0.42093993, 0.42060113, 0.89575178, 0.57233768],\n",
    "[0.01160462, 0.55440856, 0.50919182, 0.80756614]\n",
    "]\n",
    ")\n",
    "\n"
   ]
  },
  {
   "cell_type": "markdown",
   "id": "2907111f-3738-4fd9-9aec-bf7eba56f258",
   "metadata": {},
   "source": [
    "# 1. test of TransformIntervalIndex"
   ]
  },
  {
   "cell_type": "code",
   "execution_count": 88,
   "id": "85916c9b-8004-48b5-b290-aefb314795af",
   "metadata": {},
   "outputs": [
    {
     "data": {
      "text/plain": [
       "tensor([[1, 2, 1, 2],\n",
       "        [2, 1, 3, 3],\n",
       "        [4, 1, 1, 1],\n",
       "        [3, 2, 2, 3],\n",
       "        [2, 2, 4, 3],\n",
       "        [1, 3, 3, 4]])"
      ]
     },
     "execution_count": 88,
     "metadata": {},
     "output_type": "execute_result"
    }
   ],
   "source": [
    "index_1 = TransformIntervalIndex(data, 4)\n",
    "index_1"
   ]
  },
  {
   "cell_type": "code",
   "execution_count": 84,
   "id": "3e489eee-5ab5-4a0a-bffd-503f3d20a96f",
   "metadata": {},
   "outputs": [
    {
     "data": {
      "text/plain": [
       "tensor([[1, 2, 1, 2],\n",
       "        [2, 1, 3, 4],\n",
       "        [4, 1, 2, 1],\n",
       "        [4, 2, 2, 3],\n",
       "        [3, 3, 5, 3],\n",
       "        [1, 3, 3, 5]])"
      ]
     },
     "execution_count": 84,
     "metadata": {},
     "output_type": "execute_result"
    }
   ],
   "source": [
    "index_2 = TransformIntervalIndex(data, 5)\n",
    "index_2"
   ]
  },
  {
   "cell_type": "code",
   "execution_count": 85,
   "id": "30448030-2e58-485d-8b96-eec1c00dba02",
   "metadata": {},
   "outputs": [
    {
     "data": {
      "text/plain": [
       "tensor([[2, 2, 1, 2],\n",
       "        [3, 1, 4, 4],\n",
       "        [5, 2, 2, 1],\n",
       "        [4, 3, 2, 4],\n",
       "        [3, 3, 6, 4],\n",
       "        [1, 4, 4, 5]])"
      ]
     },
     "execution_count": 85,
     "metadata": {},
     "output_type": "execute_result"
    }
   ],
   "source": [
    "index_3 = TransformIntervalIndex(data, 6)\n",
    "index_3"
   ]
  },
  {
   "cell_type": "code",
   "execution_count": 113,
   "id": "58c2ad74-e2b6-4c1a-a82e-c95e8ccdb47a",
   "metadata": {},
   "outputs": [
    {
     "data": {
      "text/plain": [
       "'torch.LongTensor'"
      ]
     },
     "execution_count": 113,
     "metadata": {},
     "output_type": "execute_result"
    }
   ],
   "source": [
    "index_3.type()"
   ]
  },
  {
   "cell_type": "code",
   "execution_count": 122,
   "id": "95d270c6-f92e-4c51-8a8c-e28ceb71c08b",
   "metadata": {},
   "outputs": [],
   "source": [
    "def TransformMultivariate(dataInterval, nBin):\n",
    "    dim = dataInterval.size(dim = 1)   \n",
    "    return(\n",
    "        1 + torch.matmul(\n",
    "            (dataInterval - 1),\n",
    "            torch.pow(\n",
    "                self = nBin,\n",
    "                exponent = torch.linspace(start = (dim-1), end = 0, steps = dim, dtype = torch.long)\n",
    "            )\n",
    "        )\n",
    "    ) "
   ]
  },
  {
   "cell_type": "markdown",
   "id": "cbd2c388-4e35-46d4-82b1-6dae0c561702",
   "metadata": {},
   "source": [
    "# 2.1 Test of TransformMultivariate"
   ]
  },
  {
   "cell_type": "code",
   "execution_count": 125,
   "id": "833241b8-7c63-4439-b56b-4d68025cfe9a",
   "metadata": {},
   "outputs": [
    {
     "data": {
      "text/plain": [
       "tensor([ 18,  75, 193, 151,  95,  44])"
      ]
     },
     "execution_count": 125,
     "metadata": {},
     "output_type": "execute_result"
    }
   ],
   "source": [
    "multi_1 = TransformMultivariate(index_1, 4);\n",
    "multi_1"
   ]
  },
  {
   "cell_type": "code",
   "execution_count": 126,
   "id": "dab80773-18a3-4dd3-b074-d0ef89ee3ff5",
   "metadata": {},
   "outputs": [
    {
     "data": {
      "text/plain": [
       "tensor([ 27, 139, 381, 408, 323,  65])"
      ]
     },
     "execution_count": 126,
     "metadata": {},
     "output_type": "execute_result"
    }
   ],
   "source": [
    "multi_2 = TransformMultivariate(index_2, 5)\n",
    "multi_2"
   ]
  },
  {
   "cell_type": "code",
   "execution_count": 128,
   "id": "55839411-1787-4e6b-b7c9-416fc2d0ac85",
   "metadata": {},
   "outputs": [
    {
     "data": {
      "text/plain": [
       "'torch.LongTensor'"
      ]
     },
     "execution_count": 128,
     "metadata": {},
     "output_type": "execute_result"
    }
   ],
   "source": [
    "multi_3 = TransformMultivariate(index_3, 6)\n",
    "multi_3\n",
    "multi_3.type()"
   ]
  },
  {
   "cell_type": "markdown",
   "id": "3cf89af3-c8ed-4ee6-9414-3a0b1250a74e",
   "metadata": {},
   "source": [
    "# 3. implementation of TransformOnehot"
   ]
  },
  {
   "cell_type": "code",
   "execution_count": 137,
   "id": "c5f922c5-233b-4c83-b1ae-bfa82b688fff",
   "metadata": {},
   "outputs": [],
   "source": [
    "def TransformOnehot(dataMultivariate, newdim):\n",
    "    return(\n",
    "        torch.nn.functional.one_hot(\n",
    "            dataMultivariate-1,\n",
    "            num_classes = newdim)\n",
    "    )\n"
   ]
  },
  {
   "cell_type": "code",
   "execution_count": 139,
   "id": "a35ebf1d-c5aa-4214-8d5c-3fbeaecd8936",
   "metadata": {},
   "outputs": [
    {
     "data": {
      "text/plain": [
       "tensor([0, 0, 0, 0, 0, 0, 0, 0, 0, 0, 0, 0, 0, 0, 0, 0, 0, 1, 0, 0, 0, 0, 0, 0,\n",
       "        0, 0, 0, 0, 0, 0, 0, 0, 0, 0, 0, 0, 0, 0, 0, 0, 0, 0, 0, 0, 0, 0, 0, 0,\n",
       "        0, 0, 0, 0, 0, 0, 0, 0, 0, 0, 0, 0, 0, 0, 0, 0, 0, 0, 0, 0, 0, 0, 0, 0,\n",
       "        0, 0, 0, 0, 0, 0, 0, 0, 0, 0, 0, 0, 0, 0, 0, 0, 0, 0, 0, 0, 0, 0, 0, 0,\n",
       "        0, 0, 0, 0, 0, 0, 0, 0, 0, 0, 0, 0, 0, 0, 0, 0, 0, 0, 0, 0, 0, 0, 0, 0,\n",
       "        0, 0, 0, 0, 0, 0, 0, 0, 0, 0, 0, 0, 0, 0, 0, 0, 0, 0, 0, 0, 0, 0, 0, 0,\n",
       "        0, 0, 0, 0, 0, 0, 0, 0, 0, 0, 0, 0, 0, 0, 0, 0, 0, 0, 0, 0, 0, 0, 0, 0,\n",
       "        0, 0, 0, 0, 0, 0, 0, 0, 0, 0, 0, 0, 0, 0, 0, 0, 0, 0, 0, 0, 0, 0, 0, 0,\n",
       "        0, 0, 0, 0, 0, 0, 0, 0, 0, 0, 0, 0, 0, 0, 0, 0, 0, 0, 0, 0, 0, 0, 0, 0,\n",
       "        0, 0, 0, 0, 0, 0, 0, 0, 0, 0, 0, 0, 0, 0, 0, 0, 0, 0, 0, 0, 0, 0, 0, 0,\n",
       "        0, 0, 0, 0, 0, 0, 0, 0, 0, 0, 0, 0, 0, 0, 0, 0])"
      ]
     },
     "execution_count": 139,
     "metadata": {},
     "output_type": "execute_result"
    }
   ],
   "source": [
    "onehot_1 = TransformOnehot(multi_1, 4**4)\n",
    "onehot_1[0,:]"
   ]
  },
  {
   "cell_type": "code",
   "execution_count": 133,
   "id": "139db90c-2ece-46f9-830c-1466937b9b91",
   "metadata": {},
   "outputs": [
    {
     "data": {
      "text/plain": [
       "256"
      ]
     },
     "execution_count": 133,
     "metadata": {},
     "output_type": "execute_result"
    }
   ],
   "source": [
    "4**4"
   ]
  },
  {
   "cell_type": "code",
   "execution_count": 18,
   "id": "7288f7af-b777-410d-9c38-628239601801",
   "metadata": {},
   "outputs": [
    {
     "data": {
      "text/plain": [
       "tensor([0.0000, 0.2000, 0.4000, 0.6000, 0.8000, 1.0000])"
      ]
     },
     "execution_count": 18,
     "metadata": {},
     "output_type": "execute_result"
    }
   ],
   "source": [
    "breaks = torch.linspace(start = 0, end = 1, steps = 5 + 1)\n",
    "breaks\n"
   ]
  },
  {
   "cell_type": "code",
   "execution_count": 20,
   "id": "63112258-86ad-4653-a0d3-240f991605dc",
   "metadata": {},
   "outputs": [],
   "source": [
    "boundaries = torch.tensor([0.1 0.25, 0.6, 0.8, 0.9])\n",
    "boundaries\n",
    "v = torch.tensor([[1, 6, 9], [3, 6, 9]])\n"
   ]
  },
  {
   "cell_type": "code",
   "execution_count": 29,
   "id": "a62558a9-c2ec-450a-b235-9e507e360a99",
   "metadata": {},
   "outputs": [
    {
     "data": {
      "text/plain": [
       "tensor([[1, 6, 9],\n",
       "        [3, 6, 9]])"
      ]
     },
     "execution_count": 29,
     "metadata": {},
     "output_type": "execute_result"
    }
   ],
   "source": [
    "v\n"
   ]
  },
  {
   "cell_type": "code",
   "execution_count": 30,
   "id": "f2f2b879-cb3d-4a8a-ad0a-5987e0f7ba70",
   "metadata": {},
   "outputs": [
    {
     "data": {
      "text/plain": [
       "tensor([[2, 6, 9],\n",
       "        [3, 6, 9]])"
      ]
     },
     "execution_count": 30,
     "metadata": {},
     "output_type": "execute_result"
    }
   ],
   "source": [
    "v + (v==1)\n"
   ]
  },
  {
   "cell_type": "code",
   "execution_count": 25,
   "id": "8166941b-0700-45b4-9a41-d08d1a5782b3",
   "metadata": {},
   "outputs": [
    {
     "data": {
      "text/plain": [
       "tensor([[1, 6, 9],\n",
       "        [3, 6, 9]])"
      ]
     },
     "execution_count": 25,
     "metadata": {},
     "output_type": "execute_result"
    }
   ],
   "source": [
    "PrivatizeTwoSample <-\n",
    "  function(data,\n",
    "           alpha = Inf,\n",
    "           discrete.noise = FALSE) {\n",
    "    ## assume the data is discrete by nature or has already been dicretized.\n",
    "    n <- nrow(data)\n",
    "    dim <- ncol(data) #kappa^d if conti data, d if discrete data\n",
    "    scale <- sqrt(dim)\n",
    "      \n",
    "    if (alpha == Inf) {\n",
    "      #non-private case\n",
    "      return(scale * data)\n",
    "    }\n",
    "    else{\n",
    "      #private case\n",
    "        if (discrete.noise) {\n",
    "          noise <- noise.discrete(\n",
    "            n = n,\n",
    "            dim = dim,\n",
    "            alpha = alpha\n",
    "          )\n",
    "         \n",
    "        } else{\n",
    "          noise <- noise.conti(\n",
    "            n = n,\n",
    "            dim = dim,\n",
    "            alpha = alpha\n",
    "          )\n",
    "        \n",
    "        }\n",
    "      return(scale * data + noise)\n",
    "    }\n",
    "  } #end of function PrivatizeTwoSample\n",
    "\n",
    "\n",
    "      \n",
    "noise.conti <- function(n, dim, alpha) {\n",
    "  #dim = kappa^d for conti data, d for discrete data\n",
    "  scale <- (sqrt(8) / alpha) * sqrt(dim)\n",
    "  n.noise <- n * dim\n",
    "  unit.laplace <- rexp(n.noise, sqrt(2)) - rexp(n.noise, sqrt(2))\n",
    "  noise <- scale * unit.laplace\n",
    "  return(noise)\n",
    "}\n",
    "\n",
    "noise.discrete <- function(n, dim, alpha) {\n",
    "  #dim = kappa^d for conti data, d for discrete data\n",
    "  param.geom <- 1 - exp(-alpha / (2*sqrt(dim)))\n",
    "  n.noise <-  n * dim\n",
    "  noise <- rgeom(n.noise, param.geom) - rgeom(n.noise, param.geom)\n",
    "  return(noise)\n",
    "}\n",
    "\n",
    "noise.vairance.theoretic.conti <-function(dim, alpha){\n",
    "  return(8 * dim / (alpha^2))\n",
    "}\n",
    "\n",
    "noise.vairance.theoretic.discrete <-function(dim, alpha){\n",
    "  p <- exp(-alpha/(2*sqrt(dim)))\n",
    "  return(2*p/(1-p)^2)\n",
    "}\n",
    "\n",
    "\n",
    "UstatTwoSample <- function(data, n.1) {\n",
    "  n.2 <- nrow(data) - n.1\n",
    "  \n",
    "  data.x <- data[1:n.1,]\n",
    "  data.y <- data[(n.1 + 1):(n.1 + n.2), ]\n",
    "  # x only part\n",
    "  u.x <- data.x %*% t(data.x)\n",
    "  diag(u.x) <- 0\n",
    "  u.x <- sum(u.x) / (n.1 * (n.1 - 1))\n",
    "  \n",
    "  # y only part\n",
    "  u.y <- data.y %*% t(data.y)\n",
    "  diag(u.y) <- 0\n",
    "  u.y <- sum(u.y) / (n.2 * (n.2 - 1))\n",
    "  \n",
    "  # x, y part\n",
    "  u.xy <- data.x %*% t(data.y)\n",
    "  u.xy <- sum(u.xy) * ( 2 / (n.1 * n.2) )\n",
    "  \n",
    "  return(u.x + u.y - u.xy)\n",
    "}\n",
    "\n",
    "PrivatePermutationTwoSampleTest <-\n",
    "  function(B, data.x, data.y, kappa, alpha, gamma, discrete = FALSE) {\n",
    "    n.1 <- nrow(data.x)\n",
    "    n.2 <- nrow(data.y)\n",
    "    d <- ncol(data.x)\n",
    "    \n",
    "    data.x.binned <- Bin(data.x, kappa)\n",
    "    data.y.binned <- Bin(data.y, kappa)\n",
    "    \n",
    "    data.combined <- rbind(data.x.binned, data.y.binned)\n",
    "    data.privatized <- PrivatizeTwoSample(data.combined, alpha)\n",
    "    ustat.original <- UstatTwoSample(data.privatized, n.1)\n",
    "    #cat(\"\\nunpermuted statistic:\", ustat.original)\n",
    "    #permutation procedure\n",
    "    perm.stats <- rep(0, B)\n",
    "    for (rep in 1:B) {\n",
    "      perm <- sample(1:(n.1 + n.2)) \n",
    "      perm.stats[rep] <- UstatTwoSample(data.privatized[perm, ], n.1)\n",
    "      #cat(\"\\ntest statistic:\", UstatTwoSample(data.privatized[perm, ], n.1))\n",
    "    }\n",
    "    p.value.proxy <- (1 + sum(ustat.original < perm.stats)) / (B + 1)\n",
    "    \n",
    "    #test result: TRUE = 1 = reject the null, FALSE = 0 = retain the null.\n",
    "    \n",
    "    return(p.value.proxy < gamma)\n",
    "  }\n",
    "\n",
    "L2distBetaUnif <- function(shape.1, shape.2){\n",
    "  return(Beta(2 * shape.1 - 1, 2 * shape.2 -1) / (Beta(shape.1, shape.2))^2 - 1)\n",
    "}\n",
    "\n",
    "L2distBetaBeta <- function(shape.1.1, shape.1.2, shape.2.1, shape.2.2){\n",
    "  first.beta.term <- Beta(2 * shape.1.1 - 1, 2 * shape.1.2 -1) / (Beta(shape.1.1, shape.1.2))^2\n",
    "  second.beta.term <- Beta(2 * shape.2.1 - 1, 2 * shape.2.2 -1) / (Beta(shape.2.1, shape.2.2))^2\n",
    "  cross.term <- Beta(shape.1.1 + shape.2.1 - 1, shape.1.2 + shape.2.2 -1) / ( (Beta(shape.1.1, shape.1.2)) * (Beta(shape.2.1, shape.2.2)) )\n",
    "  return(first.beta.term + second.beta.term - 2 * cross.term)\n",
    "}\n",
    "\n",
    "Beta <- function(shape.1, shape.2){\n",
    "  return(gamma(shape.1) * gamma(shape.2) / gamma(shape.1 + shape.2))\n",
    "}"
   ]
  }
 ],
 "metadata": {
  "kernelspec": {
   "display_name": "Python 3 (ipykernel)",
   "language": "python",
   "name": "python3"
  },
  "language_info": {
   "codemirror_mode": {
    "name": "ipython",
    "version": 3
   },
   "file_extension": ".py",
   "mimetype": "text/x-python",
   "name": "python",
   "nbconvert_exporter": "python",
   "pygments_lexer": "ipython3",
   "version": "3.8.13"
  }
 },
 "nbformat": 4,
 "nbformat_minor": 5
}
