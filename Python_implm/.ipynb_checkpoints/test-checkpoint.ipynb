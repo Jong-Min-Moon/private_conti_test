{
 "cells": [
  {
   "cell_type": "code",
   "execution_count": 74,
   "id": "d5630fa7-0068-4b60-b463-400326a31172",
   "metadata": {},
   "outputs": [
    {
     "name": "stdout",
     "output_type": "stream",
     "text": [
      "1.8.1+cu101\n"
     ]
    }
   ],
   "source": [
    "import torch\n",
    "print(torch.__version__)\n",
    "import time"
   ]
  },
  {
   "cell_type": "code",
   "execution_count": null,
   "id": "073e93fb-64b9-4d08-b0e3-193acddab4e3",
   "metadata": {},
   "outputs": [],
   "source": [
    "torch.cuda.is_available()\n"
   ]
  },
  {
   "cell_type": "code",
   "execution_count": 4,
   "id": "f0ecc221-a5a5-45fc-8c92-422fc192f8c2",
   "metadata": {},
   "outputs": [],
   "source": [
    "device = torch.device('cuda:0')"
   ]
  },
  {
   "cell_type": "code",
   "execution_count": null,
   "id": "33660f43-5fb0-4152-9162-e984e4eef0ae",
   "metadata": {},
   "outputs": [],
   "source": []
  },
  {
   "cell_type": "code",
   "execution_count": 78,
   "id": "fb18680c-17ad-4d77-9026-79390f25f664",
   "metadata": {},
   "outputs": [],
   "source": [
    "class LDPTwoSampleTester:\n",
    "    def __init__(self, cuda_device):\n",
    "        self.cuda_device = cuda_device\n",
    "\n",
    "    def run_test_conti_data(self, B, data_X, data_Y, kappa, alpha, gamma, discrete = False):\n",
    "        '''\n",
    "        '''  \n",
    "        dataPrivatized = self.preprocess_conti_data(data_X, data_Y, kappa)\n",
    "        n_1 = data_X.size(dim = 0)\n",
    "        \n",
    " \n",
    "        \n",
    "        ustatOriginal = self.u_stat_twosample(dataPrivatized, n_1)\n",
    "        #print(f\"original u-statistic:{ustatOriginal}\")\n",
    "        \n",
    "        #permutation procedure\n",
    "        permStats = torch.empty(B).to(self.cuda_device)\n",
    "        \n",
    "        for i in range(B):\n",
    "            perm_stat_now = self.u_stat_twosample(\n",
    "                dataPrivatized[torch.randperm(dataPrivatized.size(dim=0))],\n",
    "                n_1).to(self.cuda_device)\n",
    "            permStats[i] = perm_stat_now\n",
    "            #print(perm_stat_now)\n",
    "         \n",
    "        \n",
    "        p_value_proxy = (1 +\n",
    "                         torch.sum(\n",
    "                             torch.gt(input = permStats, other = ustatOriginal)\n",
    "                         )\n",
    "                        ) / (B + 1)\n",
    "        \n",
    "        \n",
    "        \n",
    "        return(p_value_proxy < gamma)#test result: TRUE = 1 = reject the null, FALSE = 0 = retain the null.\n",
    "    \n",
    "    def preprocess_conti_data(self, data_X, data_Y, kappa):\n",
    "        data_X_binned = self.bin(data_X, kappa)\n",
    "        data_Y_binned = self.bin(data_Y, kappa)\n",
    "        \n",
    "        dataCombined = torch.cat([data_X_binned, data_Y_binned], dim = 0)\n",
    "        dataPrivatized = self.privatize_twosample(dataCombined, alpha)\n",
    "        return(dataPrivatized)\n",
    "        \n",
    "\n",
    "    def bin(self, data, kappa): \n",
    "        ''' Only for continuous data'''\n",
    "        \n",
    "        # create designated number of intervals\n",
    "        d = self.get_dimension(data)\n",
    "     \n",
    "        # 1. for each dimension, turn the continuous data into interval\n",
    "        # each row now indicates a hypercube in [0,1]^d\n",
    "        # the more the data is closer to 1, the larger the interval index.\n",
    "        dataInterval = self.transform_bin_index(data = data, nIntervals = kappa)\n",
    "        \n",
    "        # 2. for each datapoint(row),\n",
    "        #    turn the hypercube data into a multivariate data of (1, 2, ..., kappa^d)\n",
    "        #    each row now becomes an integer.\n",
    "        dataMultivariate = self.TransformMultivariate(\n",
    "            dataInterval = dataInterval,\n",
    "            nBin = kappa,\n",
    "        )\n",
    "        # 3. turn the indices into one-hot vectors\n",
    "        dataOnehot = self.TransformOnehot(dataMultivariate, kappa**d)\n",
    "        return(dataOnehot)\n",
    "    \n",
    "    def transform_bin_index(self, data, nIntervals):\n",
    "        ''' Only for continuous data.\n",
    "        for each dimension, transform the data in [0,1] into the interval index\n",
    "        first interval = [0, x], the others = (y z]\n",
    "        \n",
    "        input arguments\n",
    "            data: torch tensor object on GPU\n",
    "            nIntervals: integer\n",
    "        output\n",
    "            dataIndices: torch tensor, dimension same as the input\n",
    "        '''\n",
    "        # create designated number of intervals\n",
    "        d = self.get_dimension(data)\n",
    "        breaks = torch.linspace(start = 0, end = 1, steps = nIntervals + 1).to(self.cuda_device) #floatTensor\n",
    "        dataIndices = torch.bucketize(data, breaks, right = False) # ( ] form.\n",
    "        dataIndices = dataIndices.add(\n",
    "            dataIndices.eq(0)\n",
    "        ) #move 0 values from the bin number 0 to the bin number 1        \n",
    "        return(dataIndices)\n",
    "    \n",
    "    def TransformMultivariate(self, dataInterval, nBin):\n",
    "        \"\"\"Only for continuous and multivariate data .\"\"\"\n",
    "        d = self.get_dimension(dataInterval)\n",
    "        \n",
    "        if d == 1:\n",
    "            return(dataInterval.sub(1))\n",
    "        else:\n",
    "            exponent = torch.linspace(start = (d-1), end = 0, steps = d, dtype = torch.long)\n",
    "            vector = torch.tensor(nBin).pow(exponent)\n",
    "            return( torch.matmul( dataInterval.sub(1).to(torch.float), vector.to(torch.float).to(device) ).to(torch.long) )\n",
    "    \n",
    "    def TransformOnehot(self, dataMultivariate, newdim):\n",
    "        return(\n",
    "            torch.nn.functional.one_hot(\n",
    "                dataMultivariate,\n",
    "                num_classes = newdim)\n",
    "        )\n",
    "    \n",
    "    def privatize_twosample(self, data, alpha = float(\"inf\"), discrete_noise = False):\n",
    "        ## assume the data is discrete by nature or has already been dicretized.\n",
    "        n = data.size(dim = 0)\n",
    "        dim = data.size(dim = 1) #kappa^d if conti data, d if discrete data\n",
    "        scale = torch.tensor(dim**(1/2))\n",
    "        \n",
    "        if alpha == float(\"inf\"): #non-private case\n",
    "            return( torch.mul(scale, data) )\n",
    "        else: # private case\n",
    "            if discrete_noise:\n",
    "                noise = self.noise_discrete(n = n, dim = dim, alpha = alpha)\n",
    "            else:\n",
    "                noise = self.noise_conti(n = n, dim = dim, alpha = alpha)\n",
    "        return(\n",
    "            \n",
    "            torch.add(\n",
    "                input = noise.reshape(n, -1),\n",
    "                alpha = scale,\n",
    "                other = data\n",
    "            )\n",
    "        )\n",
    "    \n",
    "    def noise_conti(self, n, dim, alpha):\n",
    "        #dim = kappa^d for conti data, d for discrete data\n",
    "        unit_laplace_generator = torch.distributions.laplace.Laplace(\n",
    "            torch.tensor(0.0).to(self.cuda_device),\n",
    "            torch.tensor(2**(-1/2)).to(self.cuda_device)\n",
    "        )\n",
    "        laplace_samples = unit_laplace_generator.sample(sample_shape = torch.Size([n * dim]))\n",
    "        scale = (8**(1/2) / alpha) * (dim**(1/2))\n",
    "        return(scale*laplace_samples)\n",
    "    \n",
    "    def noise_discrete(self, n, dim, alpha):\n",
    "        #dim = kappa^d for conti data, d for discrete data\n",
    "        param_geom = 1 - torch.exp(torch.tensor(-alpha / (2* (dim**(1/2)) )))\n",
    "        n_noise =  n * dim\n",
    "        geometric_generator = torch.distributions.geometric.Geometric(param_geom.to(self.cuda_device))\n",
    "        noise = geometric_generator.sample((n_noise,)) - geometric_generator.sample((n_noise,))\n",
    "        return(noise)\n",
    "    \n",
    "    def u_stat_twosample(self, data, n_1):\n",
    "        n_2 = data.size(dim = 0) - n_1\n",
    "        \n",
    "        data_x = data[ :n_1, ]\n",
    "        data_y = data[n_1: , ]\n",
    "        \n",
    "        # x only part\n",
    "        u_x = torch.matmul(data_x, torch.transpose(data_x, 0, 1))\n",
    "        u_x.fill_diagonal_(0)\n",
    "        u_x = torch.sum(u_x) / (n_1 * (n_1 - 1))\n",
    "        \n",
    "        # y only part\n",
    "        u_y = torch.matmul(data_y, torch.transpose(data_y, 0, 1))\n",
    "        u_y.fill_diagonal_(0)\n",
    "        u_y = torch.sum(u_y) / (n_2 * (n_2 - 1))\n",
    "\n",
    "        # x, y part\n",
    "        u_xy = torch.matmul(data_x, torch.transpose(data_y, 0, 1))\n",
    "        u_xy = torch.sum(u_xy) * ( 2 / (n_1 * n_2) )\n",
    "        return(u_x + u_y - u_xy)\n",
    "    \n",
    "    def get_dimension(self, data):\n",
    "        if data.dim() == 1:\n",
    "            return(1)\n",
    "        elif data.dim() == 2:\n",
    "            return( data.size(dim = 1) )\n",
    "        else:\n",
    "            return # we only use up to 2-dimensional tensor, i.e. matrix\n",
    "        "
   ]
  },
  {
   "cell_type": "code",
   "execution_count": 80,
   "id": "21270f52-7e55-4562-adba-e831c1e5b382",
   "metadata": {},
   "outputs": [
    {
     "name": "stdout",
     "output_type": "stream",
     "text": [
      "1th run\n",
      "tensor(False, device='cuda:0')\n",
      "2th run\n",
      "tensor(False, device='cuda:0')\n",
      "3th run\n",
      "tensor(False, device='cuda:0')\n",
      "4th run\n",
      "tensor(False, device='cuda:0')\n",
      "5th run\n",
      "tensor(True, device='cuda:0')\n",
      "6th run\n",
      "tensor(True, device='cuda:0')\n",
      "7th run\n",
      "tensor(False, device='cuda:0')\n",
      "8th run\n",
      "tensor(True, device='cuda:0')\n",
      "9th run\n",
      "tensor(False, device='cuda:0')\n",
      "10th run\n",
      "tensor(True, device='cuda:0')\n",
      "11th run\n",
      "tensor(False, device='cuda:0')\n",
      "12th run\n",
      "tensor(False, device='cuda:0')\n",
      "13th run\n",
      "tensor(False, device='cuda:0')\n",
      "14th run\n",
      "tensor(False, device='cuda:0')\n",
      "15th run\n",
      "tensor(False, device='cuda:0')\n",
      "16th run\n",
      "tensor(False, device='cuda:0')\n",
      "17th run\n",
      "tensor(True, device='cuda:0')\n",
      "18th run\n",
      "tensor(True, device='cuda:0')\n",
      "19th run\n",
      "tensor(False, device='cuda:0')\n",
      "20th run\n",
      "tensor(False, device='cuda:0')\n",
      "21th run\n",
      "tensor(False, device='cuda:0')\n",
      "22th run\n",
      "tensor(True, device='cuda:0')\n",
      "23th run\n",
      "tensor(True, device='cuda:0')\n",
      "24th run\n",
      "tensor(False, device='cuda:0')\n",
      "25th run\n",
      "tensor(True, device='cuda:0')\n",
      "26th run\n",
      "tensor(False, device='cuda:0')\n",
      "27th run\n",
      "tensor(False, device='cuda:0')\n",
      "28th run\n",
      "tensor(False, device='cuda:0')\n",
      "29th run\n",
      "tensor(True, device='cuda:0')\n",
      "30th run\n",
      "tensor(False, device='cuda:0')\n",
      "31th run\n",
      "tensor(False, device='cuda:0')\n",
      "32th run\n",
      "tensor(False, device='cuda:0')\n",
      "33th run\n",
      "tensor(True, device='cuda:0')\n",
      "34th run\n",
      "tensor(True, device='cuda:0')\n",
      "35th run\n",
      "tensor(False, device='cuda:0')\n",
      "36th run\n",
      "tensor(False, device='cuda:0')\n",
      "37th run\n",
      "tensor(False, device='cuda:0')\n",
      "38th run\n",
      "tensor(False, device='cuda:0')\n",
      "39th run\n",
      "tensor(False, device='cuda:0')\n",
      "40th run\n",
      "tensor(False, device='cuda:0')\n",
      "41th run\n",
      "tensor(False, device='cuda:0')\n",
      "42th run\n",
      "tensor(False, device='cuda:0')\n",
      "43th run\n",
      "tensor(True, device='cuda:0')\n",
      "44th run\n",
      "tensor(True, device='cuda:0')\n",
      "45th run\n",
      "tensor(False, device='cuda:0')\n",
      "46th run\n",
      "tensor(True, device='cuda:0')\n",
      "47th run\n",
      "tensor(False, device='cuda:0')\n",
      "48th run\n",
      "tensor(True, device='cuda:0')\n",
      "49th run\n",
      "tensor(False, device='cuda:0')\n",
      "50th run\n",
      "tensor(False, device='cuda:0')\n",
      "51th run\n",
      "tensor(False, device='cuda:0')\n",
      "52th run\n",
      "tensor(True, device='cuda:0')\n",
      "53th run\n",
      "tensor(False, device='cuda:0')\n",
      "54th run\n",
      "tensor(True, device='cuda:0')\n",
      "55th run\n",
      "tensor(True, device='cuda:0')\n",
      "56th run\n",
      "tensor(False, device='cuda:0')\n",
      "57th run\n",
      "tensor(False, device='cuda:0')\n",
      "58th run\n",
      "tensor(False, device='cuda:0')\n",
      "59th run\n",
      "tensor(False, device='cuda:0')\n",
      "60th run\n",
      "tensor(True, device='cuda:0')\n",
      "61th run\n",
      "tensor(True, device='cuda:0')\n",
      "62th run\n",
      "tensor(True, device='cuda:0')\n",
      "63th run\n",
      "tensor(False, device='cuda:0')\n",
      "64th run\n",
      "tensor(False, device='cuda:0')\n",
      "65th run\n",
      "tensor(True, device='cuda:0')\n",
      "66th run\n",
      "tensor(True, device='cuda:0')\n",
      "67th run\n",
      "tensor(True, device='cuda:0')\n",
      "68th run\n",
      "tensor(False, device='cuda:0')\n",
      "69th run\n",
      "tensor(True, device='cuda:0')\n",
      "70th run\n",
      "tensor(False, device='cuda:0')\n",
      "71th run\n",
      "tensor(False, device='cuda:0')\n",
      "72th run\n",
      "tensor(False, device='cuda:0')\n",
      "73th run\n",
      "tensor(False, device='cuda:0')\n",
      "74th run\n",
      "tensor(False, device='cuda:0')\n",
      "75th run\n",
      "tensor(False, device='cuda:0')\n",
      "76th run\n",
      "tensor(True, device='cuda:0')\n",
      "77th run\n",
      "tensor(False, device='cuda:0')\n",
      "78th run\n",
      "tensor(False, device='cuda:0')\n",
      "79th run\n",
      "tensor(False, device='cuda:0')\n",
      "80th run\n",
      "tensor(False, device='cuda:0')\n",
      "81th run\n",
      "tensor(False, device='cuda:0')\n",
      "82th run\n",
      "tensor(False, device='cuda:0')\n",
      "83th run\n",
      "tensor(False, device='cuda:0')\n",
      "84th run\n",
      "tensor(False, device='cuda:0')\n",
      "85th run\n",
      "tensor(False, device='cuda:0')\n",
      "86th run\n",
      "tensor(False, device='cuda:0')\n",
      "87th run\n",
      "tensor(False, device='cuda:0')\n",
      "88th run\n",
      "tensor(True, device='cuda:0')\n",
      "89th run\n",
      "tensor(False, device='cuda:0')\n",
      "90th run\n",
      "tensor(False, device='cuda:0')\n",
      "91th run\n",
      "tensor(True, device='cuda:0')\n",
      "92th run\n",
      "tensor(True, device='cuda:0')\n",
      "93th run\n",
      "tensor(False, device='cuda:0')\n",
      "94th run\n",
      "tensor(True, device='cuda:0')\n",
      "95th run\n",
      "tensor(True, device='cuda:0')\n",
      "96th run\n",
      "tensor(True, device='cuda:0')\n",
      "97th run\n",
      "tensor(False, device='cuda:0')\n",
      "98th run\n",
      "tensor(False, device='cuda:0')\n",
      "99th run\n",
      "tensor(True, device='cuda:0')\n",
      "100th run\n",
      "tensor(False, device='cuda:0')\n",
      "tensor(0.3400)\n",
      "10.455593824386597\n"
     ]
    }
   ],
   "source": [
    "n1 = 10000\n",
    "n2 = 10000\n",
    "################\n",
    "kappa = 5\n",
    "alpha = 0.5\n",
    "gamma = 0.05\n",
    "B = 200\n",
    "\n",
    "\n",
    "start_time = time.time()\n",
    "\n",
    "\n",
    "tester = LDPTwoSampleTester(device)\n",
    "generator_X = torch.distributions.beta.Beta(torch.tensor(3.0).to(device), torch.tensor(5.0).to(device))\n",
    "generator_Y = torch.distributions.beta.Beta(torch.tensor(5.0).to(device), torch.tensor(3.0).to(device))\n",
    "\n",
    "test_results = torch.empty(100)\n",
    "for rep in range(100):\n",
    "    print(f\"{rep+1}th run\")\n",
    "    \n",
    "    result_now = tester.run_test_conti_data(B,\n",
    "                                            generator_X.sample((n1,)).reshape(-1),\n",
    "                                            generator_Y.sample((n2,)).reshape(-1),\n",
    "                                            kappa, alpha, gamma, discrete = False\n",
    "                                           )\n",
    "    test_results[rep] = result_now\n",
    "    print(result_now)\n",
    "  \n",
    "print(torch.sum(test_results)/100)\n",
    "elapsed_time = time.time() - start_time\n",
    "print(elapsed_time)\n"
   ]
  },
  {
   "cell_type": "code",
   "execution_count": null,
   "id": "1062168d-edd0-43cc-8371-d04db40af593",
   "metadata": {},
   "outputs": [],
   "source": [
    "\n",
    "\n",
    "\n",
    "\n",
    "L2distBetaUnif <- function(shape.1, shape.2){\n",
    "  return(Beta(2 * shape.1 - 1, 2 * shape.2 -1) / (Beta(shape.1, shape.2))^2 - 1)\n",
    "}\n",
    "\n",
    "L2distBetaBeta <- function(shape.1.1, shape.1.2, shape.2.1, shape.2.2){\n",
    "  first.beta.term <- Beta(2 * shape.1.1 - 1, 2 * shape.1.2 -1) / (Beta(shape.1.1, shape.1.2))^2\n",
    "  second.beta.term <- Beta(2 * shape.2.1 - 1, 2 * shape.2.2 -1) / (Beta(shape.2.1, shape.2.2))^2\n",
    "  cross.term <- Beta(shape.1.1 + shape.2.1 - 1, shape.1.2 + shape.2.2 -1) / ( (Beta(shape.1.1, shape.1.2)) * (Beta(shape.2.1, shape.2.2)) )\n",
    "  return(first.beta.term + second.beta.term - 2 * cross.term)\n",
    "}\n",
    "\n",
    "Beta <- function(shape.1, shape.2){\n",
    "  return(gamma(shape.1) * gamma(shape.2) / gamma(shape.1 + shape.2))\n"
   ]
  },
  {
   "cell_type": "code",
   "execution_count": 7,
   "id": "3d1a096c-98e3-4010-8b0c-49f5072fd67b",
   "metadata": {},
   "outputs": [],
   "source": [
    "data = torch.tensor(\n",
    "[\n",
    "[0.19901582, 0.29330425, 0.08031318, 0.27744206],\n",
    "[0.38371595, 0.07725842, 0.58872328, 0.60947456],\n",
    "[0.78765378, 0.18596928, 0.20049580, 0.04321161],\n",
    "[0.60499579, 0.38050702, 0.26301983, 0.58410214],\n",
    "[0.42093993, 0.42060113, 0.89575178, 0.57233768],\n",
    "[0.01160462, 0.55440856, 0.50919182, 0.80756614]\n",
    "]\n",
    ").to(device)\n",
    "\n"
   ]
  },
  {
   "cell_type": "code",
   "execution_count": null,
   "id": "5d5d08ee-5b10-4b0d-af9d-95ab1be44a30",
   "metadata": {},
   "outputs": [],
   "source": [
    "torch.linspace(start = (3-1), end = 0, steps = 3, dtype = torch.long)"
   ]
  },
  {
   "cell_type": "code",
   "execution_count": null,
   "id": "f4fe4fa6-27ae-4b99-b130-23bf7ff8198d",
   "metadata": {},
   "outputs": [],
   "source": [
    "data.size(dim = 1)"
   ]
  },
  {
   "cell_type": "code",
   "execution_count": null,
   "id": "eba2ce9f-c73d-41a8-b6a4-8d7c82be0bf9",
   "metadata": {},
   "outputs": [],
   "source": [
    "torch.sum(data) > 0.05"
   ]
  },
  {
   "cell_type": "code",
   "execution_count": null,
   "id": "485f97e1-3172-4cf3-acb5-6f019716dda0",
   "metadata": {},
   "outputs": [],
   "source": [
    "data[torch.randperm(data.size(dim=0))]"
   ]
  },
  {
   "cell_type": "markdown",
   "id": "2907111f-3738-4fd9-9aec-bf7eba56f258",
   "metadata": {},
   "source": [
    "# 1. test of transform_bin_index"
   ]
  },
  {
   "cell_type": "code",
   "execution_count": 34,
   "id": "85916c9b-8004-48b5-b290-aefb314795af",
   "metadata": {},
   "outputs": [
    {
     "data": {
      "text/plain": [
       "tensor([[1, 2, 1, 2],\n",
       "        [2, 1, 3, 3],\n",
       "        [4, 1, 1, 1],\n",
       "        [3, 2, 2, 3],\n",
       "        [2, 2, 4, 3],\n",
       "        [1, 3, 3, 4]], device='cuda:0')"
      ]
     },
     "execution_count": 34,
     "metadata": {},
     "output_type": "execute_result"
    }
   ],
   "source": [
    "tester = LDPTwoSampleTester(device)\n",
    "index_1 = tester.transform_bin_index(data, 4)\n",
    "index_1"
   ]
  },
  {
   "cell_type": "code",
   "execution_count": 35,
   "id": "9cd8c86d-3efc-407e-8c3a-89ec8ac14d37",
   "metadata": {},
   "outputs": [],
   "source": [
    "generator_X = torch.distributions.beta.Beta(torch.tensor(3.0).to(device), torch.tensor(5.0).to(device))\n",
    "\n"
   ]
  },
  {
   "cell_type": "code",
   "execution_count": 42,
   "id": "710a9e6b-bb67-4b5e-9b5f-e2c03352f892",
   "metadata": {},
   "outputs": [
    {
     "name": "stdout",
     "output_type": "stream",
     "text": [
      "tensor([0.5314, 0.4275, 0.7200, 0.3289, 0.2905, 0.4236, 0.3151, 0.2569, 0.4084,\n",
      "        0.2772, 0.3774, 0.2719, 0.2548, 0.1673, 0.3826, 0.2703, 0.4119, 0.5091,\n",
      "        0.2450, 0.4965, 0.3836, 0.2755, 0.5672, 0.3766, 0.3929, 0.2914, 0.2755,\n",
      "        0.3891, 0.1551, 0.4460, 0.2921, 0.1289, 0.2629, 0.1929, 0.4320, 0.0801,\n",
      "        0.5909, 0.4335, 0.1094, 0.0828, 0.3406, 0.2133, 0.4406, 0.3368, 0.1858,\n",
      "        0.4543, 0.4944, 0.2448, 0.4412, 0.3706, 0.1872, 0.3609, 0.4708, 0.1810,\n",
      "        0.3931, 0.3136, 0.4998, 0.3496, 0.4917, 0.8134, 0.1857, 0.1171, 0.4542,\n",
      "        0.3147, 0.4092, 0.2183, 0.6881, 0.1248, 0.5016, 0.4871, 0.3294, 0.3921,\n",
      "        0.3036, 0.3215, 0.6914, 0.3329, 0.4376, 0.3956, 0.3288, 0.2637, 0.6398,\n",
      "        0.6667, 0.4865, 0.2412, 0.4486, 0.2631, 0.4048, 0.3683, 0.5045, 0.3206,\n",
      "        0.1542, 0.2533, 0.6809, 0.3378, 0.3149, 0.6909, 0.3772, 0.3125, 0.3483,\n",
      "        0.4594], device='cuda:0')\n"
     ]
    },
    {
     "data": {
      "text/plain": [
       "tensor([3, 3, 4, 2, 2, 3, 2, 2, 3, 2, 2, 2, 2, 1, 2, 2, 3, 3, 2, 3, 2, 2, 3, 2,\n",
       "        2, 2, 2, 2, 1, 3, 2, 1, 2, 1, 3, 1, 3, 3, 1, 1, 2, 2, 3, 2, 1, 3, 3, 2,\n",
       "        3, 2, 1, 2, 3, 1, 2, 2, 3, 2, 3, 5, 1, 1, 3, 2, 3, 2, 4, 1, 3, 3, 2, 2,\n",
       "        2, 2, 4, 2, 3, 2, 2, 2, 4, 4, 3, 2, 3, 2, 3, 2, 3, 2, 1, 2, 4, 2, 2, 4,\n",
       "        2, 2, 2, 3], device='cuda:0')"
      ]
     },
     "execution_count": 42,
     "metadata": {},
     "output_type": "execute_result"
    }
   ],
   "source": [
    "beta_sample = generator_X.sample((100,))\n",
    "print(beta_sample)\n",
    "index_2 = tester.transform_bin_index(beta_sample, 5)\n",
    "index_2\n"
   ]
  },
  {
   "cell_type": "markdown",
   "id": "cbd2c388-4e35-46d4-82b1-6dae0c561702",
   "metadata": {},
   "source": [
    "# 2.1 Test of TransformMultivariate"
   ]
  },
  {
   "cell_type": "code",
   "execution_count": 37,
   "id": "833241b8-7c63-4439-b56b-4d68025cfe9a",
   "metadata": {},
   "outputs": [
    {
     "data": {
      "text/plain": [
       "tensor([ 17,  74, 192, 150,  94,  43], device='cuda:0')"
      ]
     },
     "execution_count": 37,
     "metadata": {},
     "output_type": "execute_result"
    }
   ],
   "source": [
    "multi_1 = tester.TransformMultivariate(index_1, 4);\n",
    "multi_1"
   ]
  },
  {
   "cell_type": "code",
   "execution_count": 41,
   "id": "dab80773-18a3-4dd3-b074-d0ef89ee3ff5",
   "metadata": {},
   "outputs": [
    {
     "data": {
      "text/plain": [
       "tensor([2, 2, 2, 1, 2, 0, 2, 2, 3, 1, 3, 2, 1, 2, 1, 2, 2, 1, 0, 1, 2, 2, 1, 1,\n",
       "        0, 2, 2, 1, 1, 1, 2, 0, 0, 1, 2, 1, 2, 1, 1, 1, 1, 3, 2, 1, 1, 2, 1, 0,\n",
       "        1, 2, 1, 2, 1, 1, 2, 2, 1, 2, 1, 2, 2, 0, 2, 2, 2, 1, 1, 0, 1, 1, 3, 2,\n",
       "        1, 2, 2, 2, 1, 1, 1, 2, 3, 1, 2, 1, 1, 1, 1, 1, 1, 0, 0, 3, 1, 3, 2, 1,\n",
       "        1, 1, 2, 2], device='cuda:0')"
      ]
     },
     "execution_count": 41,
     "metadata": {},
     "output_type": "execute_result"
    }
   ],
   "source": [
    "multi_2 = tester.TransformMultivariate(index_2, 5)\n",
    "multi_2"
   ]
  },
  {
   "cell_type": "markdown",
   "id": "3cf89af3-c8ed-4ee6-9414-3a0b1250a74e",
   "metadata": {},
   "source": [
    "# 3. implementation of TransformOnehot"
   ]
  },
  {
   "cell_type": "code",
   "execution_count": null,
   "id": "c5f922c5-233b-4c83-b1ae-bfa82b688fff",
   "metadata": {},
   "outputs": [],
   "source": []
  },
  {
   "cell_type": "code",
   "execution_count": 43,
   "id": "a35ebf1d-c5aa-4214-8d5c-3fbeaecd8936",
   "metadata": {},
   "outputs": [
    {
     "data": {
      "text/plain": [
       "tensor([[0, 0, 0,  ..., 0, 0, 0],\n",
       "        [0, 0, 0,  ..., 0, 0, 0],\n",
       "        [0, 0, 0,  ..., 0, 0, 0],\n",
       "        [0, 0, 0,  ..., 0, 0, 0],\n",
       "        [0, 0, 0,  ..., 0, 0, 0],\n",
       "        [0, 0, 0,  ..., 0, 0, 0]], device='cuda:0')"
      ]
     },
     "execution_count": 43,
     "metadata": {},
     "output_type": "execute_result"
    }
   ],
   "source": [
    "onehot_1 = tester.TransformOnehot(multi_1, 4**4)\n",
    "onehot_1"
   ]
  },
  {
   "cell_type": "code",
   "execution_count": 44,
   "id": "139db90c-2ece-46f9-830c-1466937b9b91",
   "metadata": {},
   "outputs": [
    {
     "data": {
      "text/plain": [
       "tensor([[0, 0, 1, 0, 0],\n",
       "        [0, 0, 1, 0, 0],\n",
       "        [0, 0, 1, 0, 0],\n",
       "        [0, 1, 0, 0, 0],\n",
       "        [0, 0, 1, 0, 0],\n",
       "        [1, 0, 0, 0, 0],\n",
       "        [0, 0, 1, 0, 0],\n",
       "        [0, 0, 1, 0, 0],\n",
       "        [0, 0, 0, 1, 0],\n",
       "        [0, 1, 0, 0, 0],\n",
       "        [0, 0, 0, 1, 0],\n",
       "        [0, 0, 1, 0, 0],\n",
       "        [0, 1, 0, 0, 0],\n",
       "        [0, 0, 1, 0, 0],\n",
       "        [0, 1, 0, 0, 0],\n",
       "        [0, 0, 1, 0, 0],\n",
       "        [0, 0, 1, 0, 0],\n",
       "        [0, 1, 0, 0, 0],\n",
       "        [1, 0, 0, 0, 0],\n",
       "        [0, 1, 0, 0, 0],\n",
       "        [0, 0, 1, 0, 0],\n",
       "        [0, 0, 1, 0, 0],\n",
       "        [0, 1, 0, 0, 0],\n",
       "        [0, 1, 0, 0, 0],\n",
       "        [1, 0, 0, 0, 0],\n",
       "        [0, 0, 1, 0, 0],\n",
       "        [0, 0, 1, 0, 0],\n",
       "        [0, 1, 0, 0, 0],\n",
       "        [0, 1, 0, 0, 0],\n",
       "        [0, 1, 0, 0, 0],\n",
       "        [0, 0, 1, 0, 0],\n",
       "        [1, 0, 0, 0, 0],\n",
       "        [1, 0, 0, 0, 0],\n",
       "        [0, 1, 0, 0, 0],\n",
       "        [0, 0, 1, 0, 0],\n",
       "        [0, 1, 0, 0, 0],\n",
       "        [0, 0, 1, 0, 0],\n",
       "        [0, 1, 0, 0, 0],\n",
       "        [0, 1, 0, 0, 0],\n",
       "        [0, 1, 0, 0, 0],\n",
       "        [0, 1, 0, 0, 0],\n",
       "        [0, 0, 0, 1, 0],\n",
       "        [0, 0, 1, 0, 0],\n",
       "        [0, 1, 0, 0, 0],\n",
       "        [0, 1, 0, 0, 0],\n",
       "        [0, 0, 1, 0, 0],\n",
       "        [0, 1, 0, 0, 0],\n",
       "        [1, 0, 0, 0, 0],\n",
       "        [0, 1, 0, 0, 0],\n",
       "        [0, 0, 1, 0, 0],\n",
       "        [0, 1, 0, 0, 0],\n",
       "        [0, 0, 1, 0, 0],\n",
       "        [0, 1, 0, 0, 0],\n",
       "        [0, 1, 0, 0, 0],\n",
       "        [0, 0, 1, 0, 0],\n",
       "        [0, 0, 1, 0, 0],\n",
       "        [0, 1, 0, 0, 0],\n",
       "        [0, 0, 1, 0, 0],\n",
       "        [0, 1, 0, 0, 0],\n",
       "        [0, 0, 1, 0, 0],\n",
       "        [0, 0, 1, 0, 0],\n",
       "        [1, 0, 0, 0, 0],\n",
       "        [0, 0, 1, 0, 0],\n",
       "        [0, 0, 1, 0, 0],\n",
       "        [0, 0, 1, 0, 0],\n",
       "        [0, 1, 0, 0, 0],\n",
       "        [0, 1, 0, 0, 0],\n",
       "        [1, 0, 0, 0, 0],\n",
       "        [0, 1, 0, 0, 0],\n",
       "        [0, 1, 0, 0, 0],\n",
       "        [0, 0, 0, 1, 0],\n",
       "        [0, 0, 1, 0, 0],\n",
       "        [0, 1, 0, 0, 0],\n",
       "        [0, 0, 1, 0, 0],\n",
       "        [0, 0, 1, 0, 0],\n",
       "        [0, 0, 1, 0, 0],\n",
       "        [0, 1, 0, 0, 0],\n",
       "        [0, 1, 0, 0, 0],\n",
       "        [0, 1, 0, 0, 0],\n",
       "        [0, 0, 1, 0, 0],\n",
       "        [0, 0, 0, 1, 0],\n",
       "        [0, 1, 0, 0, 0],\n",
       "        [0, 0, 1, 0, 0],\n",
       "        [0, 1, 0, 0, 0],\n",
       "        [0, 1, 0, 0, 0],\n",
       "        [0, 1, 0, 0, 0],\n",
       "        [0, 1, 0, 0, 0],\n",
       "        [0, 1, 0, 0, 0],\n",
       "        [0, 1, 0, 0, 0],\n",
       "        [1, 0, 0, 0, 0],\n",
       "        [1, 0, 0, 0, 0],\n",
       "        [0, 0, 0, 1, 0],\n",
       "        [0, 1, 0, 0, 0],\n",
       "        [0, 0, 0, 1, 0],\n",
       "        [0, 0, 1, 0, 0],\n",
       "        [0, 1, 0, 0, 0],\n",
       "        [0, 1, 0, 0, 0],\n",
       "        [0, 1, 0, 0, 0],\n",
       "        [0, 0, 1, 0, 0],\n",
       "        [0, 0, 1, 0, 0]], device='cuda:0')"
      ]
     },
     "execution_count": 44,
     "metadata": {},
     "output_type": "execute_result"
    }
   ],
   "source": [
    "onehot_2 = tester.TransformOnehot(multi_2, 5)\n",
    "onehot_2"
   ]
  },
  {
   "cell_type": "markdown",
   "id": "ce671f05-f2e9-41c3-9883-eb51652890f1",
   "metadata": {},
   "source": [
    "# implementation of noise.conti"
   ]
  },
  {
   "cell_type": "code",
   "execution_count": null,
   "id": "7288f7af-b777-410d-9c38-628239601801",
   "metadata": {
    "tags": []
   },
   "outputs": [],
   "source": []
  },
  {
   "cell_type": "code",
   "execution_count": null,
   "id": "63112258-86ad-4653-a0d3-240f991605dc",
   "metadata": {},
   "outputs": [],
   "source": [
    "torch.var(noise_conti(1000, 2, 0.5))\n"
   ]
  },
  {
   "cell_type": "markdown",
   "id": "a4f88805-1809-4906-a35b-aa1950eb742e",
   "metadata": {},
   "source": [
    "# implementation of noise.discrete"
   ]
  },
  {
   "cell_type": "code",
   "execution_count": null,
   "id": "a62558a9-c2ec-450a-b235-9e507e360a99",
   "metadata": {},
   "outputs": [],
   "source": []
  },
  {
   "cell_type": "code",
   "execution_count": null,
   "id": "f2f2b879-cb3d-4a8a-ad0a-5987e0f7ba70",
   "metadata": {},
   "outputs": [],
   "source": [
    "torch.var(noise_discrete(1000, 2, 0.5))\n",
    "\n"
   ]
  },
  {
   "cell_type": "code",
   "execution_count": null,
   "id": "ceaab8f1-c696-4c53-b15e-c33fd3dedd0b",
   "metadata": {},
   "outputs": [],
   "source": []
  },
  {
   "cell_type": "markdown",
   "id": "77129a9a-a75d-44af-935a-07c3a4d6e99b",
   "metadata": {},
   "source": [
    "# implementation of PrivatizeTwoSample"
   ]
  },
  {
   "cell_type": "code",
   "execution_count": null,
   "id": "19afbf93-d0e8-4b69-8759-8c8e5c31fe72",
   "metadata": {},
   "outputs": [],
   "source": [
    "\n"
   ]
  },
  {
   "cell_type": "code",
   "execution_count": null,
   "id": "072e7672-abe2-4748-9cbb-ecd170f28a0f",
   "metadata": {},
   "outputs": [],
   "source": [
    "privatize_twosample(data, alpha = 0.5)"
   ]
  },
  {
   "cell_type": "markdown",
   "id": "48f31013-c609-4d02-ab57-580bce94847c",
   "metadata": {},
   "source": [
    "# u-statisitc function"
   ]
  },
  {
   "cell_type": "code",
   "execution_count": null,
   "id": "66608a09-968b-47ef-a274-5232b9ada589",
   "metadata": {},
   "outputs": [],
   "source": []
  },
  {
   "cell_type": "code",
   "execution_count": null,
   "id": "b7e7767b-960f-4f3c-a2c6-90b6782c47a2",
   "metadata": {},
   "outputs": [],
   "source": [
    "U_stat_twosample(data, 2)"
   ]
  },
  {
   "cell_type": "code",
   "execution_count": null,
   "id": "8166941b-0700-45b4-9a41-d08d1a5782b3",
   "metadata": {},
   "outputs": [],
   "source": [
    "\n",
    "\n",
    "\n",
    "      \n",
    "\n",
    "\n",
    "\n",
    "\n",
    "noise.vairance.theoretic.conti <-function(dim, alpha){\n",
    "  return(8 * dim / (alpha^2))\n",
    "}\n",
    "\n",
    "noise.vairance.theoretic.discrete <-function(dim, alpha){\n",
    "  p <- exp(-alpha/(2*sqrt(dim)))\n",
    "  return(2*p/(1-p)^2)\n",
    "}\n",
    "\n",
    "\n",
    "\n",
    "\n"
   ]
  },
  {
   "cell_type": "code",
   "execution_count": null,
   "id": "b8cedfe7-c684-4b5e-8162-2e8ef0a3fe94",
   "metadata": {},
   "outputs": [],
   "source": []
  },
  {
   "cell_type": "code",
   "execution_count": null,
   "id": "52d712cf-00e7-4fa1-a481-5a49797abe1c",
   "metadata": {},
   "outputs": [],
   "source": []
  },
  {
   "cell_type": "code",
   "execution_count": null,
   "id": "441f99b6-e85c-4feb-8133-9b4c3543904c",
   "metadata": {},
   "outputs": [],
   "source": []
  },
  {
   "cell_type": "code",
   "execution_count": null,
   "id": "f3207e15-acea-4b09-9a46-738e4ae93029",
   "metadata": {},
   "outputs": [],
   "source": [
    "unit_laplace_generator_cpu = torch.distributions.laplace.Laplace(torch.tensor([0.0]), torch.tensor([2**(-1/2)]))\n",
    "laplace_samples = unit_laplace_generator_cpu.sample(sample_shape = torch.Size([100000000]))\n",
    "print(laplace_samples.size())\n",
    "laplace_samples.view(100000, -1)\n",
    "print(laplace_samples[-1])\n",
    "print(laplace_samples.shape)"
   ]
  },
  {
   "cell_type": "code",
   "execution_count": null,
   "id": "204cc3ee-38fb-4993-89ff-b2440b1f7b02",
   "metadata": {},
   "outputs": [],
   "source": [
    "a = [1,2,3]\n",
    "a[-1]"
   ]
  },
  {
   "cell_type": "code",
   "execution_count": null,
   "id": "714c4bbf-4403-49c5-a115-f2463e400ee7",
   "metadata": {},
   "outputs": [],
   "source": [
    "\n"
   ]
  },
  {
   "cell_type": "code",
   "execution_count": null,
   "id": "04912ff9-a733-4473-97d5-2554be73d85f",
   "metadata": {},
   "outputs": [],
   "source": [
    "unit_laplace_generator_gpu = torch.distributions.laplace.Laplace(torch.tensor([0.0]).cuda(), torch.tensor([2**(-1/2)]).cuda())\n",
    "\n",
    "laplace_samples = unit_laplace_generator_gpu.sample(sample_shape = torch.Size([100000000]))\n"
   ]
  },
  {
   "cell_type": "code",
   "execution_count": null,
   "id": "b093aa56-3de2-4c63-a3f6-4b95b926c57b",
   "metadata": {},
   "outputs": [],
   "source": [
    "del(laplace_samples)"
   ]
  },
  {
   "cell_type": "code",
   "execution_count": null,
   "id": "ddcb573a-1a27-4684-80c2-02b519f7af13",
   "metadata": {},
   "outputs": [],
   "source": [
    "torch.cuda.empty_cache() "
   ]
  },
  {
   "cell_type": "code",
   "execution_count": null,
   "id": "f78362b7-e9b8-44c9-9232-73b051442160",
   "metadata": {},
   "outputs": [],
   "source": []
  }
 ],
 "metadata": {
  "kernelspec": {
   "display_name": "Python 3 (ipykernel)",
   "language": "python",
   "name": "python3"
  },
  "language_info": {
   "codemirror_mode": {
    "name": "ipython",
    "version": 3
   },
   "file_extension": ".py",
   "mimetype": "text/x-python",
   "name": "python",
   "nbconvert_exporter": "python",
   "pygments_lexer": "ipython3",
   "version": "3.8.13"
  }
 },
 "nbformat": 4,
 "nbformat_minor": 5
}
