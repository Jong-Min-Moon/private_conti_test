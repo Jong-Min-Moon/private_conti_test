{
 "cells": [
  {
   "cell_type": "code",
   "execution_count": 31,
   "id": "d5630fa7-0068-4b60-b463-400326a31172",
   "metadata": {},
   "outputs": [],
   "source": [
    "import torch"
   ]
  },
  {
   "cell_type": "code",
   "execution_count": 59,
   "id": "1062168d-edd0-43cc-8371-d04db40af593",
   "metadata": {},
   "outputs": [],
   "source": [
    "def TransformIntervalIndex(data, nIntervals):\n",
    "  # for each dimension, transform the data in [0,1] into the interval index\n",
    "  # first interval = [0, x], the others = (y z]\n",
    "    \n",
    "    # data: torch tensor object\n",
    "    # n.intervals: integer\n",
    "  \n",
    "  # create designated number of intervals\n",
    "    if data.dim() == 1:\n",
    "        d = 1\n",
    "    elif data.dim() == 2:\n",
    "        d = data.size(dim = 1)\n",
    "    else:\n",
    "        return # we only use up to 2-dimensional tensor\n",
    "\n",
    "    breaks = torch.linspace(start = 0, end = 1, steps = nIntervals + 1)\n",
    "    dataIndices = torch.bucketize(data, breaks, right = False) # ( ] form.\n",
    "    dataIndices = dataIndices + (dataIndices==0) #move 0 values from the bin number 0 to the bin number 1\n",
    "    return(dataIndices)\n"
   ]
  },
  {
   "cell_type": "code",
   "execution_count": 63,
   "id": "2a36c5bd-b771-403e-afac-cea2173bcaa9",
   "metadata": {},
   "outputs": [
    {
     "data": {
      "text/plain": [
       "tensor([[1, 1, 1, 2, 2, 2, 2],\n",
       "        [1, 1, 1, 2, 2, 2, 2]])"
      ]
     },
     "execution_count": 63,
     "metadata": {},
     "output_type": "execute_result"
    }
   ],
   "source": [
    "TransformIntervalIndex(torch.tensor([[0, 0.1, 0.25, 0.6, 0.75, 0.9, 1], [0, 0.1, 0.25, 0.6, 0.75, 0.9, 1]]), 2)"
   ]
  },
  {
   "cell_type": "code",
   "execution_count": null,
   "id": "95d270c6-f92e-4c51-8a8c-e28ceb71c08b",
   "metadata": {},
   "outputs": [],
   "source": [
    "def TransformMultivariate(dataInterval, nBin, dim):\n",
    "    return(\n",
    "        1 + \n",
    "        torch.matmul(\n",
    "            (dataInterval - 1),\n",
    "            torch.pow(\n",
    "                self = nBin,\n",
    "                exponent = torch.linspace(start = (dim-1), end = 0, steps = dim)\n",
    "            )        \n",
    "        )   \n",
    "    )\n",
    "    \n"
   ]
  },
  {
   "cell_type": "code",
   "execution_count": null,
   "id": "11c8232f-ecd4-4e3b-a743-00a1945d7345",
   "metadata": {},
   "outputs": [],
   "source": []
  },
  {
   "cell_type": "code",
   "execution_count": 54,
   "id": "c5f922c5-233b-4c83-b1ae-bfa82b688fff",
   "metadata": {},
   "outputs": [
    {
     "data": {
      "text/plain": [
       "(tensor([[0, 1]]),\n",
       " tensor([[2, 3],\n",
       "         [4, 5],\n",
       "         [6, 7],\n",
       "         [8, 9]]))"
      ]
     },
     "execution_count": 54,
     "metadata": {},
     "output_type": "execute_result"
    }
   ],
   "source": [
    ".TransformOnehot <- function(data.multivariate, dim) {\n",
    "  n <- nrow(data.multivariate)\n",
    "  data.onehot <- matrix(0, nrow = n, ncol = dim) #initialize with 0\n",
    "  for (row.num in 1:n) {\n",
    "    bin.num <- data.multivariate[row.num]\n",
    "    data.onehot[row.num, bin.num] <- 1\n",
    "  }\n",
    "  return(data.onehot)\n",
    "}"
   ]
  },
  {
   "cell_type": "code",
   "execution_count": 73,
   "id": "a35ebf1d-c5aa-4214-8d5c-3fbeaecd8936",
   "metadata": {},
   "outputs": [
    {
     "data": {
      "text/plain": [
       "tensor([10.,  9.,  8.,  7.,  6.,  5.,  4.,  3.,  2.,  1.,  0.])"
      ]
     },
     "execution_count": 73,
     "metadata": {},
     "output_type": "execute_result"
    }
   ],
   "source": [
    "torch.linspace(start = 10, end = 0, steps = 10  + 1)"
   ]
  },
  {
   "cell_type": "code",
   "execution_count": 76,
   "id": "139db90c-2ece-46f9-830c-1466937b9b91",
   "metadata": {},
   "outputs": [
    {
     "data": {
      "text/plain": [
       "tensor([1.0240e+03, 5.1200e+02, 2.5600e+02, 1.2800e+02, 6.4000e+01, 3.2000e+01,\n",
       "        1.6000e+01, 8.0000e+00, 4.0000e+00, 2.0000e+00, 1.0000e+00])"
      ]
     },
     "execution_count": 76,
     "metadata": {},
     "output_type": "execute_result"
    }
   ],
   "source": [
    "torch.pow(self = 2, exponent = torch.linspace(start = 10, end = 0, steps = 10  + 1))"
   ]
  },
  {
   "cell_type": "code",
   "execution_count": 18,
   "id": "7288f7af-b777-410d-9c38-628239601801",
   "metadata": {},
   "outputs": [
    {
     "data": {
      "text/plain": [
       "tensor([0.0000, 0.2000, 0.4000, 0.6000, 0.8000, 1.0000])"
      ]
     },
     "execution_count": 18,
     "metadata": {},
     "output_type": "execute_result"
    }
   ],
   "source": [
    "breaks = torch.linspace(start = 0, end = 1, steps = 5 + 1)\n",
    "breaks\n"
   ]
  },
  {
   "cell_type": "code",
   "execution_count": 20,
   "id": "63112258-86ad-4653-a0d3-240f991605dc",
   "metadata": {},
   "outputs": [],
   "source": [
    "boundaries = torch.tensor([0.1 0.25, 0.6, 0.8, 0.9])\n",
    "boundaries\n",
    "v = torch.tensor([[1, 6, 9], [3, 6, 9]])\n"
   ]
  },
  {
   "cell_type": "code",
   "execution_count": 29,
   "id": "a62558a9-c2ec-450a-b235-9e507e360a99",
   "metadata": {},
   "outputs": [
    {
     "data": {
      "text/plain": [
       "tensor([[1, 6, 9],\n",
       "        [3, 6, 9]])"
      ]
     },
     "execution_count": 29,
     "metadata": {},
     "output_type": "execute_result"
    }
   ],
   "source": [
    "v\n"
   ]
  },
  {
   "cell_type": "code",
   "execution_count": 30,
   "id": "f2f2b879-cb3d-4a8a-ad0a-5987e0f7ba70",
   "metadata": {},
   "outputs": [
    {
     "data": {
      "text/plain": [
       "tensor([[2, 6, 9],\n",
       "        [3, 6, 9]])"
      ]
     },
     "execution_count": 30,
     "metadata": {},
     "output_type": "execute_result"
    }
   ],
   "source": [
    "v + (v==1)\n"
   ]
  },
  {
   "cell_type": "code",
   "execution_count": 25,
   "id": "8166941b-0700-45b4-9a41-d08d1a5782b3",
   "metadata": {},
   "outputs": [
    {
     "data": {
      "text/plain": [
       "tensor([[1, 6, 9],\n",
       "        [3, 6, 9]])"
      ]
     },
     "execution_count": 25,
     "metadata": {},
     "output_type": "execute_result"
    }
   ],
   "source": [
    "PrivatizeTwoSample <-\n",
    "  function(data,\n",
    "           alpha = Inf,\n",
    "           discrete.noise = FALSE) {\n",
    "    ## assume the data is discrete by nature or has already been dicretized.\n",
    "    n <- nrow(data)\n",
    "    dim <- ncol(data) #kappa^d if conti data, d if discrete data\n",
    "    scale <- sqrt(dim)\n",
    "      \n",
    "    if (alpha == Inf) {\n",
    "      #non-private case\n",
    "      return(scale * data)\n",
    "    }\n",
    "    else{\n",
    "      #private case\n",
    "        if (discrete.noise) {\n",
    "          noise <- noise.discrete(\n",
    "            n = n,\n",
    "            dim = dim,\n",
    "            alpha = alpha\n",
    "          )\n",
    "         \n",
    "        } else{\n",
    "          noise <- noise.conti(\n",
    "            n = n,\n",
    "            dim = dim,\n",
    "            alpha = alpha\n",
    "          )\n",
    "        \n",
    "        }\n",
    "      return(scale * data + noise)\n",
    "    }\n",
    "  } #end of function PrivatizeTwoSample\n",
    "\n",
    "\n",
    "      \n",
    "noise.conti <- function(n, dim, alpha) {\n",
    "  #dim = kappa^d for conti data, d for discrete data\n",
    "  scale <- (sqrt(8) / alpha) * sqrt(dim)\n",
    "  n.noise <- n * dim\n",
    "  unit.laplace <- rexp(n.noise, sqrt(2)) - rexp(n.noise, sqrt(2))\n",
    "  noise <- scale * unit.laplace\n",
    "  return(noise)\n",
    "}\n",
    "\n",
    "noise.discrete <- function(n, dim, alpha) {\n",
    "  #dim = kappa^d for conti data, d for discrete data\n",
    "  param.geom <- 1 - exp(-alpha / (2*sqrt(dim)))\n",
    "  n.noise <-  n * dim\n",
    "  noise <- rgeom(n.noise, param.geom) - rgeom(n.noise, param.geom)\n",
    "  return(noise)\n",
    "}\n",
    "\n",
    "noise.vairance.theoretic.conti <-function(dim, alpha){\n",
    "  return(8 * dim / (alpha^2))\n",
    "}\n",
    "\n",
    "noise.vairance.theoretic.discrete <-function(dim, alpha){\n",
    "  p <- exp(-alpha/(2*sqrt(dim)))\n",
    "  return(2*p/(1-p)^2)\n",
    "}\n",
    "\n",
    "\n",
    "UstatTwoSample <- function(data, n.1) {\n",
    "  n.2 <- nrow(data) - n.1\n",
    "  \n",
    "  data.x <- data[1:n.1,]\n",
    "  data.y <- data[(n.1 + 1):(n.1 + n.2), ]\n",
    "  # x only part\n",
    "  u.x <- data.x %*% t(data.x)\n",
    "  diag(u.x) <- 0\n",
    "  u.x <- sum(u.x) / (n.1 * (n.1 - 1))\n",
    "  \n",
    "  # y only part\n",
    "  u.y <- data.y %*% t(data.y)\n",
    "  diag(u.y) <- 0\n",
    "  u.y <- sum(u.y) / (n.2 * (n.2 - 1))\n",
    "  \n",
    "  # x, y part\n",
    "  u.xy <- data.x %*% t(data.y)\n",
    "  u.xy <- sum(u.xy) * ( 2 / (n.1 * n.2) )\n",
    "  \n",
    "  return(u.x + u.y - u.xy)\n",
    "}\n",
    "\n",
    "PrivatePermutationTwoSampleTest <-\n",
    "  function(B, data.x, data.y, kappa, alpha, gamma, discrete = FALSE) {\n",
    "    n.1 <- nrow(data.x)\n",
    "    n.2 <- nrow(data.y)\n",
    "    d <- ncol(data.x)\n",
    "    \n",
    "    data.x.binned <- Bin(data.x, kappa)\n",
    "    data.y.binned <- Bin(data.y, kappa)\n",
    "    \n",
    "    data.combined <- rbind(data.x.binned, data.y.binned)\n",
    "    data.privatized <- PrivatizeTwoSample(data.combined, alpha)\n",
    "    ustat.original <- UstatTwoSample(data.privatized, n.1)\n",
    "    #cat(\"\\nunpermuted statistic:\", ustat.original)\n",
    "    #permutation procedure\n",
    "    perm.stats <- rep(0, B)\n",
    "    for (rep in 1:B) {\n",
    "      perm <- sample(1:(n.1 + n.2)) \n",
    "      perm.stats[rep] <- UstatTwoSample(data.privatized[perm, ], n.1)\n",
    "      #cat(\"\\ntest statistic:\", UstatTwoSample(data.privatized[perm, ], n.1))\n",
    "    }\n",
    "    p.value.proxy <- (1 + sum(ustat.original < perm.stats)) / (B + 1)\n",
    "    \n",
    "    #test result: TRUE = 1 = reject the null, FALSE = 0 = retain the null.\n",
    "    \n",
    "    return(p.value.proxy < gamma)\n",
    "  }\n",
    "\n",
    "L2distBetaUnif <- function(shape.1, shape.2){\n",
    "  return(Beta(2 * shape.1 - 1, 2 * shape.2 -1) / (Beta(shape.1, shape.2))^2 - 1)\n",
    "}\n",
    "\n",
    "L2distBetaBeta <- function(shape.1.1, shape.1.2, shape.2.1, shape.2.2){\n",
    "  first.beta.term <- Beta(2 * shape.1.1 - 1, 2 * shape.1.2 -1) / (Beta(shape.1.1, shape.1.2))^2\n",
    "  second.beta.term <- Beta(2 * shape.2.1 - 1, 2 * shape.2.2 -1) / (Beta(shape.2.1, shape.2.2))^2\n",
    "  cross.term <- Beta(shape.1.1 + shape.2.1 - 1, shape.1.2 + shape.2.2 -1) / ( (Beta(shape.1.1, shape.1.2)) * (Beta(shape.2.1, shape.2.2)) )\n",
    "  return(first.beta.term + second.beta.term - 2 * cross.term)\n",
    "}\n",
    "\n",
    "Beta <- function(shape.1, shape.2){\n",
    "  return(gamma(shape.1) * gamma(shape.2) / gamma(shape.1 + shape.2))\n",
    "}"
   ]
  }
 ],
 "metadata": {
  "kernelspec": {
   "display_name": "Python 3 (ipykernel)",
   "language": "python",
   "name": "python3"
  },
  "language_info": {
   "codemirror_mode": {
    "name": "ipython",
    "version": 3
   },
   "file_extension": ".py",
   "mimetype": "text/x-python",
   "name": "python",
   "nbconvert_exporter": "python",
   "pygments_lexer": "ipython3",
   "version": "3.8.13"
  }
 },
 "nbformat": 4,
 "nbformat_minor": 5
}
