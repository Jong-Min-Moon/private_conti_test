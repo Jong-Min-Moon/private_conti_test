{
 "cells": [
  {
   "cell_type": "code",
   "execution_count": 31,
   "id": "d5630fa7-0068-4b60-b463-400326a31172",
   "metadata": {},
   "outputs": [],
   "source": [
    "import torch"
   ]
  },
  {
   "cell_type": "code",
   "execution_count": null,
   "id": "fb18680c-17ad-4d77-9026-79390f25f664",
   "metadata": {},
   "outputs": [],
   "source": [
    "class LDPTwoSampleTester:\n",
    "    def __init__(self)\n",
    "\n",
    "        "
   ]
  },
  {
   "cell_type": "code",
   "execution_count": 59,
   "id": "1062168d-edd0-43cc-8371-d04db40af593",
   "metadata": {},
   "outputs": [],
   "source": [
    "def TransformIntervalIndex(data, nIntervals):\n",
    "  # for each dimension, transform the data in [0,1] into the interval index\n",
    "  # first interval = [0, x], the others = (y z]\n",
    "    \n",
    "    # data: torch tensor object\n",
    "    # n.intervals: integer\n",
    "  \n",
    "  # create designated number of intervals\n",
    "    if data.dim() == 1:\n",
    "        d = 1\n",
    "    elif data.dim() == 2:\n",
    "        d = data.size(dim = 1)\n",
    "    else:\n",
    "        return # we only use up to 2-dimensional tensor\n",
    "\n",
    "    breaks = torch.linspace(start = 0, end = 1, steps = nIntervals + 1)\n",
    "    dataIndices = torch.bucketize(data, breaks, right = False) # ( ] form.\n",
    "    dataIndices = dataIndices + (dataIndices==0) #move 0 values from the bin number 0 to the bin number 1\n",
    "    return(dataIndices)\n"
   ]
  },
  {
   "cell_type": "code",
   "execution_count": 253,
   "id": "3d1a096c-98e3-4010-8b0c-49f5072fd67b",
   "metadata": {},
   "outputs": [],
   "source": [
    "data = torch.tensor(\n",
    "[\n",
    "[0.19901582, 0.29330425, 0.08031318, 0.27744206],\n",
    "[0.38371595, 0.07725842, 0.58872328, 0.60947456],\n",
    "[0.78765378, 0.18596928, 0.20049580, 0.04321161],\n",
    "[0.60499579, 0.38050702, 0.26301983, 0.58410214],\n",
    "[0.42093993, 0.42060113, 0.89575178, 0.57233768],\n",
    "[0.01160462, 0.55440856, 0.50919182, 0.80756614]\n",
    "]\n",
    ")\n",
    "\n"
   ]
  },
  {
   "cell_type": "code",
   "execution_count": 252,
   "id": "f4fe4fa6-27ae-4b99-b130-23bf7ff8198d",
   "metadata": {},
   "outputs": [
    {
     "data": {
      "text/plain": [
       "tensor([[0.0000, 0.2933, 0.0803, 0.2774],\n",
       "        [0.3837, 0.0000, 0.5887, 0.6095],\n",
       "        [0.7877, 0.1860, 0.0000, 0.0432],\n",
       "        [0.6050, 0.3805, 0.2630, 0.0000],\n",
       "        [0.4209, 0.4206, 0.8958, 0.5723],\n",
       "        [0.0116, 0.5544, 0.5092, 0.8076]])"
      ]
     },
     "execution_count": 252,
     "metadata": {},
     "output_type": "execute_result"
    }
   ],
   "source": [
    "data.fill_diagonal_(0)"
   ]
  },
  {
   "cell_type": "markdown",
   "id": "2907111f-3738-4fd9-9aec-bf7eba56f258",
   "metadata": {},
   "source": [
    "# 1. test of TransformIntervalIndex"
   ]
  },
  {
   "cell_type": "code",
   "execution_count": 88,
   "id": "85916c9b-8004-48b5-b290-aefb314795af",
   "metadata": {},
   "outputs": [
    {
     "data": {
      "text/plain": [
       "tensor([[1, 2, 1, 2],\n",
       "        [2, 1, 3, 3],\n",
       "        [4, 1, 1, 1],\n",
       "        [3, 2, 2, 3],\n",
       "        [2, 2, 4, 3],\n",
       "        [1, 3, 3, 4]])"
      ]
     },
     "execution_count": 88,
     "metadata": {},
     "output_type": "execute_result"
    }
   ],
   "source": [
    "index_1 = TransformIntervalIndex(data, 4)\n",
    "index_1"
   ]
  },
  {
   "cell_type": "code",
   "execution_count": 84,
   "id": "3e489eee-5ab5-4a0a-bffd-503f3d20a96f",
   "metadata": {},
   "outputs": [
    {
     "data": {
      "text/plain": [
       "tensor([[1, 2, 1, 2],\n",
       "        [2, 1, 3, 4],\n",
       "        [4, 1, 2, 1],\n",
       "        [4, 2, 2, 3],\n",
       "        [3, 3, 5, 3],\n",
       "        [1, 3, 3, 5]])"
      ]
     },
     "execution_count": 84,
     "metadata": {},
     "output_type": "execute_result"
    }
   ],
   "source": [
    "index_2 = TransformIntervalIndex(data, 5)\n",
    "index_2"
   ]
  },
  {
   "cell_type": "code",
   "execution_count": 85,
   "id": "30448030-2e58-485d-8b96-eec1c00dba02",
   "metadata": {},
   "outputs": [
    {
     "data": {
      "text/plain": [
       "tensor([[2, 2, 1, 2],\n",
       "        [3, 1, 4, 4],\n",
       "        [5, 2, 2, 1],\n",
       "        [4, 3, 2, 4],\n",
       "        [3, 3, 6, 4],\n",
       "        [1, 4, 4, 5]])"
      ]
     },
     "execution_count": 85,
     "metadata": {},
     "output_type": "execute_result"
    }
   ],
   "source": [
    "index_3 = TransformIntervalIndex(data, 6)\n",
    "index_3"
   ]
  },
  {
   "cell_type": "code",
   "execution_count": 113,
   "id": "58c2ad74-e2b6-4c1a-a82e-c95e8ccdb47a",
   "metadata": {},
   "outputs": [
    {
     "data": {
      "text/plain": [
       "'torch.LongTensor'"
      ]
     },
     "execution_count": 113,
     "metadata": {},
     "output_type": "execute_result"
    }
   ],
   "source": [
    "index_3.type()"
   ]
  },
  {
   "cell_type": "code",
   "execution_count": 122,
   "id": "95d270c6-f92e-4c51-8a8c-e28ceb71c08b",
   "metadata": {},
   "outputs": [],
   "source": [
    "def TransformMultivariate(dataInterval, nBin):\n",
    "    dim = dataInterval.size(dim = 1)   \n",
    "    return(\n",
    "        1 + torch.matmul(\n",
    "            (dataInterval - 1),\n",
    "            torch.pow(\n",
    "                self = nBin,\n",
    "                exponent = torch.linspace(start = (dim-1), end = 0, steps = dim, dtype = torch.long)\n",
    "            )\n",
    "        )\n",
    "    ) "
   ]
  },
  {
   "cell_type": "markdown",
   "id": "cbd2c388-4e35-46d4-82b1-6dae0c561702",
   "metadata": {},
   "source": [
    "# 2.1 Test of TransformMultivariate"
   ]
  },
  {
   "cell_type": "code",
   "execution_count": 125,
   "id": "833241b8-7c63-4439-b56b-4d68025cfe9a",
   "metadata": {},
   "outputs": [
    {
     "data": {
      "text/plain": [
       "tensor([ 18,  75, 193, 151,  95,  44])"
      ]
     },
     "execution_count": 125,
     "metadata": {},
     "output_type": "execute_result"
    }
   ],
   "source": [
    "multi_1 = TransformIntervalIndex(index_1, 4);\n",
    "multi_1"
   ]
  },
  {
   "cell_type": "code",
   "execution_count": 126,
   "id": "dab80773-18a3-4dd3-b074-d0ef89ee3ff5",
   "metadata": {},
   "outputs": [
    {
     "data": {
      "text/plain": [
       "tensor([ 27, 139, 381, 408, 323,  65])"
      ]
     },
     "execution_count": 126,
     "metadata": {},
     "output_type": "execute_result"
    }
   ],
   "source": [
    "multi_2 = TransformMultivariate(index_2, 5)\n",
    "multi_2"
   ]
  },
  {
   "cell_type": "code",
   "execution_count": 128,
   "id": "55839411-1787-4e6b-b7c9-416fc2d0ac85",
   "metadata": {},
   "outputs": [
    {
     "data": {
      "text/plain": [
       "'torch.LongTensor'"
      ]
     },
     "execution_count": 128,
     "metadata": {},
     "output_type": "execute_result"
    }
   ],
   "source": [
    "multi_3 = TransformMultivariate(index_3, 6)\n",
    "multi_3\n",
    "multi_3.type()"
   ]
  },
  {
   "cell_type": "markdown",
   "id": "3cf89af3-c8ed-4ee6-9414-3a0b1250a74e",
   "metadata": {},
   "source": [
    "# 3. implementation of TransformOnehot"
   ]
  },
  {
   "cell_type": "code",
   "execution_count": 137,
   "id": "c5f922c5-233b-4c83-b1ae-bfa82b688fff",
   "metadata": {},
   "outputs": [],
   "source": [
    "def TransformOnehot(dataMultivariate, newdim):\n",
    "    return(\n",
    "        torch.nn.functional.one_hot(\n",
    "            dataMultivariate-1,\n",
    "            num_classes = newdim)\n",
    "    )\n"
   ]
  },
  {
   "cell_type": "code",
   "execution_count": 218,
   "id": "a35ebf1d-c5aa-4214-8d5c-3fbeaecd8936",
   "metadata": {},
   "outputs": [
    {
     "data": {
      "text/plain": [
       "tensor([[0, 0, 0,  ..., 0, 0, 0],\n",
       "        [0, 0, 0,  ..., 0, 0, 0],\n",
       "        [0, 0, 0,  ..., 0, 0, 0],\n",
       "        [0, 0, 0,  ..., 0, 0, 0],\n",
       "        [0, 0, 0,  ..., 0, 0, 0],\n",
       "        [0, 0, 0,  ..., 0, 0, 0]])"
      ]
     },
     "execution_count": 218,
     "metadata": {},
     "output_type": "execute_result"
    }
   ],
   "source": [
    "onehot_1 = TransformOnehot(multi_1, 4**4)\n",
    "onehot_1"
   ]
  },
  {
   "cell_type": "code",
   "execution_count": 221,
   "id": "139db90c-2ece-46f9-830c-1466937b9b91",
   "metadata": {},
   "outputs": [
    {
     "data": {
      "text/plain": [
       "tensor([[  0,   1,   2,   3,   4,   5,   6,   7,   8,   9,  10,  11,  12,  13,\n",
       "          14,  15,  16,  17,  18,  19,  20,  21,  22,  23,  24,  25,  26,  27,\n",
       "          28,  29,  30,  31,  32,  33,  34,  35,  36,  37,  38,  39,  40,  41,\n",
       "          42,  43,  44,  45,  46,  47,  48,  49,  50,  51,  52,  53,  54,  55,\n",
       "          56,  57,  58,  59,  60,  61,  62,  63,  64,  65,  66,  67,  68,  69,\n",
       "          70,  71,  72,  73,  74,  75,  76,  77,  78,  79,  80,  81,  82,  83,\n",
       "          84,  85,  86,  87,  88,  89,  90,  91,  92,  93,  94,  95,  96,  97,\n",
       "          98,  99, 100, 101, 102, 103, 104, 105, 106, 107, 108, 109, 110, 111,\n",
       "         112, 113, 114, 115, 116, 117, 118, 119, 120, 121, 122, 123, 124, 125,\n",
       "         126, 127],\n",
       "        [128, 129, 130, 131, 132, 133, 134, 135, 136, 137, 138, 139, 140, 141,\n",
       "         142, 143, 144, 145, 146, 147, 148, 149, 150, 151, 152, 153, 154, 155,\n",
       "         156, 157, 158, 159, 160, 161, 162, 163, 164, 165, 166, 167, 168, 169,\n",
       "         170, 171, 172, 173, 174, 175, 176, 177, 178, 179, 180, 181, 182, 183,\n",
       "         184, 185, 186, 187, 188, 189, 190, 191, 192, 193, 194, 195, 196, 197,\n",
       "         198, 199, 200, 201, 202, 203, 204, 205, 206, 207, 208, 209, 210, 211,\n",
       "         212, 213, 214, 215, 216, 217, 218, 219, 220, 221, 222, 223, 224, 225,\n",
       "         226, 227, 228, 229, 230, 231, 232, 233, 234, 235, 236, 237, 238, 239,\n",
       "         240, 241, 242, 243, 244, 245, 246, 247, 248, 249, 250, 251, 252, 253,\n",
       "         254, 255]])"
      ]
     },
     "execution_count": 221,
     "metadata": {},
     "output_type": "execute_result"
    }
   ],
   "source": [
    "torch.arange(256).reshape(2,-1)"
   ]
  },
  {
   "cell_type": "markdown",
   "id": "ce671f05-f2e9-41c3-9883-eb51652890f1",
   "metadata": {},
   "source": [
    "# implementation of noise.conti"
   ]
  },
  {
   "cell_type": "code",
   "execution_count": 183,
   "id": "7288f7af-b777-410d-9c38-628239601801",
   "metadata": {
    "tags": []
   },
   "outputs": [],
   "source": [
    "def noise_conti(n, dim, alpha):\n",
    "      #dim = kappa^d for conti data, d for discrete data\n",
    "    unit_laplace_generator = torch.distributions.laplace.Laplace(torch.tensor([0.0]), torch.tensor([2**(-1/2)]))\n",
    "    laplace_samples = unit_laplace_generator.sample(sample_shape = torch.Size([n * dim]))\n",
    "    scale = (8**(1/2) / alpha) * (dim**(1/2))\n",
    "    return(scale*laplace_samples.reshape(-1))"
   ]
  },
  {
   "cell_type": "code",
   "execution_count": 200,
   "id": "63112258-86ad-4653-a0d3-240f991605dc",
   "metadata": {},
   "outputs": [
    {
     "data": {
      "text/plain": [
       "tensor(63.8272)"
      ]
     },
     "execution_count": 200,
     "metadata": {},
     "output_type": "execute_result"
    }
   ],
   "source": [
    "torch.var(noise_conti(1000, 2, 0.5))\n"
   ]
  },
  {
   "cell_type": "markdown",
   "id": "a4f88805-1809-4906-a35b-aa1950eb742e",
   "metadata": {},
   "source": [
    "# implementation of noise.discrete"
   ]
  },
  {
   "cell_type": "code",
   "execution_count": 208,
   "id": "a62558a9-c2ec-450a-b235-9e507e360a99",
   "metadata": {},
   "outputs": [],
   "source": [
    "def noise_discrete(n, dim, alpha):\n",
    "    #dim = kappa^d for conti data, d for discrete data\n",
    "    param_geom = 1 - torch.exp(torch.tensor(-alpha / (2* (dim**(1/2)) )))\n",
    "    n_noise =  n * dim\n",
    "    geometric_generator = torch.distributions.geometric.Geometric(param_geom)\n",
    "    noise = geometric_generator.sample((n_noise,)) - geometric_generator.sample((n_noise,))\n",
    "    return(noise.reshape(-1))\n"
   ]
  },
  {
   "cell_type": "code",
   "execution_count": 212,
   "id": "f2f2b879-cb3d-4a8a-ad0a-5987e0f7ba70",
   "metadata": {},
   "outputs": [
    {
     "data": {
      "text/plain": [
       "tensor(59.2451)"
      ]
     },
     "execution_count": 212,
     "metadata": {},
     "output_type": "execute_result"
    }
   ],
   "source": [
    "torch.var(noise_discrete(1000, 2, 0.5))\n",
    "\n"
   ]
  },
  {
   "cell_type": "code",
   "execution_count": null,
   "id": "ceaab8f1-c696-4c53-b15e-c33fd3dedd0b",
   "metadata": {},
   "outputs": [],
   "source": []
  },
  {
   "cell_type": "markdown",
   "id": "77129a9a-a75d-44af-935a-07c3a4d6e99b",
   "metadata": {},
   "source": [
    "# implementation of PrivatizeTwoSample"
   ]
  },
  {
   "cell_type": "code",
   "execution_count": 242,
   "id": "19afbf93-d0e8-4b69-8759-8c8e5c31fe72",
   "metadata": {},
   "outputs": [],
   "source": [
    "def privatize_twosample(data, alpha = float(\"inf\"), discrete_noise = False):\n",
    "    ## assume the data is discrete by nature or has already been dicretized.\n",
    "    n = data.size(dim = 0)\n",
    "    dim = data.size(dim = 1) #kappa^d if conti data, d if discrete data\n",
    "    scale = torch.tensor(dim**(1/2))\n",
    "      \n",
    "    if alpha == float(\"inf\"): #non-private case\n",
    "        return( torch.mul(scale, data) )\n",
    "    else: # private case\n",
    "        if discrete_noise:\n",
    "          noise = noise_discrete(n = n, dim = dim, alpha = alpha)\n",
    "        else:\n",
    "          noise = noise_conti(n = n, dim = dim, alpha = alpha)\n",
    "    print(noise)\n",
    "    return(\n",
    "        torch.add(\n",
    "            input = data,\n",
    "            alpha = scale,\n",
    "            other = noise.reshape(n, -1)\n",
    "        )\n",
    "    )\n"
   ]
  },
  {
   "cell_type": "code",
   "execution_count": 243,
   "id": "072e7672-abe2-4748-9cbb-ecd170f28a0f",
   "metadata": {},
   "outputs": [
    {
     "name": "stdout",
     "output_type": "stream",
     "text": [
      "tensor([ 17.9675,  -6.2361,  15.2690,  -3.3067,  19.4458,   1.1035,   3.8195,\n",
      "          0.6491,  18.5508,   7.9279,   5.2640,   0.2620,   7.4066,   6.9240,\n",
      "          6.9025,  -7.4443,   1.0893,   5.2800,  -2.4739, -15.4348,  -0.8586,\n",
      "         20.9370,   3.0041,   6.2779])\n"
     ]
    },
    {
     "data": {
      "text/plain": [
       "tensor([[ 36.1340, -12.1788,  30.6183,  -6.3360],\n",
       "        [ 39.2753,   2.2843,   8.2278,   1.9077],\n",
       "        [ 37.8892,  16.0418,  10.7284,   0.5672],\n",
       "        [ 15.4181,  14.2285,  14.0679, -14.3044],\n",
       "        [  2.5996,  10.9805,  -4.0520, -30.2972],\n",
       "        [ -1.7057,  42.4284,   6.5174,  13.3634]])"
      ]
     },
     "execution_count": 243,
     "metadata": {},
     "output_type": "execute_result"
    }
   ],
   "source": [
    "privatize_twosample(data, alpha = 0.5)"
   ]
  },
  {
   "cell_type": "markdown",
   "id": "48f31013-c609-4d02-ab57-580bce94847c",
   "metadata": {},
   "source": [
    "# u-statisitc function"
   ]
  },
  {
   "cell_type": "code",
   "execution_count": 260,
   "id": "66608a09-968b-47ef-a274-5232b9ada589",
   "metadata": {},
   "outputs": [],
   "source": [
    "def U_stat_twosample(data, n_1):\n",
    "  n_2 = data.size(dim = 0) - n_1\n",
    "  \n",
    "  data_x = data[ :n_1, ]\n",
    "  data_y = data[n_1: , ]\n",
    "    \n",
    "  # x only part\n",
    "  u_x = torch.matmul(data_x, torch.transpose(data_x, 0, 1))\n",
    "  u_x.fill_diagonal_(0)\n",
    "  u_x = torch.sum(u_x) / (n_1 * (n_1 - 1))\n",
    "  \n",
    "  # y only part\n",
    "  u_y = torch.matmul(data_y, torch.transpose(data_y, 0, 1))\n",
    "  u_y.fill_diagonal_(0)\n",
    "  u_y = torch.sum(u_y) / (n_2 * (n_2 - 1))\n",
    "  \n",
    "  # x, y part\n",
    "  u_xy = torch.matmul(data_x, torch.transpose(data_y, 0, 1))\n",
    "  u_xy = torch.sum(u_xy) * ( 2 / (n_1 * n_2) )\n",
    "  \n",
    "  return(u_x + u_y - u_xy)"
   ]
  },
  {
   "cell_type": "code",
   "execution_count": 259,
   "id": "b7e7767b-960f-4f3c-a2c6-90b6782c47a2",
   "metadata": {},
   "outputs": [
    {
     "data": {
      "text/plain": [
       "tensor(-0.1087)"
      ]
     },
     "execution_count": 259,
     "metadata": {},
     "output_type": "execute_result"
    }
   ],
   "source": [
    "U_stat_twosample(data, 2)"
   ]
  },
  {
   "cell_type": "code",
   "execution_count": 237,
   "id": "8166941b-0700-45b4-9a41-d08d1a5782b3",
   "metadata": {},
   "outputs": [
    {
     "ename": "SyntaxError",
     "evalue": "invalid syntax (2715841981.py, line 1)",
     "output_type": "error",
     "traceback": [
      "\u001b[0;36m  Input \u001b[0;32mIn [237]\u001b[0;36m\u001b[0m\n\u001b[0;31m    noise.vairance.theoretic.conti <-function(dim, alpha){\u001b[0m\n\u001b[0m                                                         ^\u001b[0m\n\u001b[0;31mSyntaxError\u001b[0m\u001b[0;31m:\u001b[0m invalid syntax\n"
     ]
    }
   ],
   "source": [
    "\n",
    "\n",
    "\n",
    "      \n",
    "\n",
    "\n",
    "\n",
    "\n",
    "noise.vairance.theoretic.conti <-function(dim, alpha){\n",
    "  return(8 * dim / (alpha^2))\n",
    "}\n",
    "\n",
    "noise.vairance.theoretic.discrete <-function(dim, alpha){\n",
    "  p <- exp(-alpha/(2*sqrt(dim)))\n",
    "  return(2*p/(1-p)^2)\n",
    "}\n",
    "\n",
    "\n",
    "\n",
    "\n",
    "PrivatePermutationTwoSampleTest <-\n",
    "  function(B, data.x, data.y, kappa, alpha, gamma, discrete = FALSE) {\n",
    "    n.1 <- nrow(data.x)\n",
    "    n.2 <- nrow(data.y)\n",
    "    d <- ncol(data.x)\n",
    "    \n",
    "    data.x.binned <- Bin(data.x, kappa)\n",
    "    data.y.binned <- Bin(data.y, kappa)\n",
    "    \n",
    "    data.combined <- rbind(data.x.binned, data.y.binned)\n",
    "    data.privatized <- PrivatizeTwoSample(data.combined, alpha)\n",
    "    ustat.original <- UstatTwoSample(data.privatized, n.1)\n",
    "    #cat(\"\\nunpermuted statistic:\", ustat.original)\n",
    "    #permutation procedure\n",
    "    perm.stats <- rep(0, B)\n",
    "    for (rep in 1:B) {\n",
    "      perm <- sample(1:(n.1 + n.2)) \n",
    "      perm.stats[rep] <- UstatTwoSample(data.privatized[perm, ], n.1)\n",
    "      #cat(\"\\ntest statistic:\", UstatTwoSample(data.privatized[perm, ], n.1))\n",
    "    }\n",
    "    p.value.proxy <- (1 + sum(ustat.original < perm.stats)) / (B + 1)\n",
    "    \n",
    "    #test result: TRUE = 1 = reject the null, FALSE = 0 = retain the null.\n",
    "    \n",
    "    return(p.value.proxy < gamma)\n",
    "  }\n",
    "\n",
    "L2distBetaUnif <- function(shape.1, shape.2){\n",
    "  return(Beta(2 * shape.1 - 1, 2 * shape.2 -1) / (Beta(shape.1, shape.2))^2 - 1)\n",
    "}\n",
    "\n",
    "L2distBetaBeta <- function(shape.1.1, shape.1.2, shape.2.1, shape.2.2){\n",
    "  first.beta.term <- Beta(2 * shape.1.1 - 1, 2 * shape.1.2 -1) / (Beta(shape.1.1, shape.1.2))^2\n",
    "  second.beta.term <- Beta(2 * shape.2.1 - 1, 2 * shape.2.2 -1) / (Beta(shape.2.1, shape.2.2))^2\n",
    "  cross.term <- Beta(shape.1.1 + shape.2.1 - 1, shape.1.2 + shape.2.2 -1) / ( (Beta(shape.1.1, shape.1.2)) * (Beta(shape.2.1, shape.2.2)) )\n",
    "  return(first.beta.term + second.beta.term - 2 * cross.term)\n",
    "}\n",
    "\n",
    "Beta <- function(shape.1, shape.2){\n",
    "  return(gamma(shape.1) * gamma(shape.2) / gamma(shape.1 + shape.2))\n",
    "}"
   ]
  },
  {
   "cell_type": "code",
   "execution_count": null,
   "id": "b8cedfe7-c684-4b5e-8162-2e8ef0a3fe94",
   "metadata": {},
   "outputs": [],
   "source": []
  },
  {
   "cell_type": "code",
   "execution_count": null,
   "id": "52d712cf-00e7-4fa1-a481-5a49797abe1c",
   "metadata": {},
   "outputs": [],
   "source": []
  }
 ],
 "metadata": {
  "kernelspec": {
   "display_name": "Python 3 (ipykernel)",
   "language": "python",
   "name": "python3"
  },
  "language_info": {
   "codemirror_mode": {
    "name": "ipython",
    "version": 3
   },
   "file_extension": ".py",
   "mimetype": "text/x-python",
   "name": "python",
   "nbconvert_exporter": "python",
   "pygments_lexer": "ipython3",
   "version": "3.8.13"
  }
 },
 "nbformat": 4,
 "nbformat_minor": 5
}
