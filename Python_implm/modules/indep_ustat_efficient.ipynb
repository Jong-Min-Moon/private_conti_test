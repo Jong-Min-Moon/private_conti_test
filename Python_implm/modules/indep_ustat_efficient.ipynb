{
 "cells": [
  {
   "cell_type": "code",
   "execution_count": 216,
   "metadata": {},
   "outputs": [
    {
     "name": "stdout",
     "output_type": "stream",
     "text": [
      "cuda available: True\n",
      "code run on device:: cuda:1\n"
     ]
    }
   ],
   "source": [
    "import torch\n",
    "import numpy as np\n",
    "import scipy\n",
    "import math\n",
    "\n",
    "USE_CUDA = torch.cuda.is_available() \n",
    "print(f\"cuda available: {USE_CUDA}\")\n",
    "\n",
    "device = torch.device('cuda:1' if USE_CUDA else 'cpu') \n",
    "print(f\"code run on device:: {device}\")"
   ]
  },
  {
   "cell_type": "markdown",
   "metadata": {},
   "source": [
    "# 1. verification of simplication"
   ]
  },
  {
   "cell_type": "code",
   "execution_count": 3,
   "metadata": {},
   "outputs": [
    {
     "name": "stdout",
     "output_type": "stream",
     "text": [
      "3840\n",
      "3840\n"
     ]
    }
   ],
   "source": [
    "onePhioneonePsione = 10\n",
    "onePhiPsiOne = 2\n",
    "trPhiPsi = 3\n",
    "n = 20\n",
    "\n",
    "print(\n",
    "          4 * (onePhioneonePsione - 4 * onePhiPsiOne + 2 * trPhiPsi)\n",
    "        - 8 * (n-3) *(onePhiPsiOne - trPhiPsi)\n",
    "        + 4 * (n-3)*(n-2) * trPhiPsi\n",
    "        )\n",
    "\n",
    "print(\n",
    "          4 * onePhioneonePsione\n",
    "        - 8 * (n-1) * onePhiPsiOne\n",
    "        + 4 * (n-1) * (n-2) * trPhiPsi\n",
    "        )"
   ]
  },
  {
   "cell_type": "markdown",
   "metadata": {},
   "source": [
    "# 2. verification of tr(phi psi)"
   ]
  },
  {
   "cell_type": "code",
   "execution_count": 5,
   "metadata": {},
   "outputs": [],
   "source": [
    "data_X = torch.normal(0,1, [5000,9]).to(device)\n",
    "data_Y = torch.normal(0,1, [5000,9]).to(device)"
   ]
  },
  {
   "cell_type": "code",
   "execution_count": 6,
   "metadata": {},
   "outputs": [
    {
     "data": {
      "text/plain": [
       "tensor([[0., 0., 0., 0., 0., 0., 0., 0., 0.],\n",
       "        [0., 0., 0., 0., 0., 0., 0., 0., 0.],\n",
       "        [0., 0., 0., 0., 0., 0., 0., 0., 0.],\n",
       "        [0., 0., 0., 0., 0., 0., 0., 0., 0.],\n",
       "        [0., 0., 0., 0., 0., 0., 0., 0., 0.],\n",
       "        [0., 0., 0., 0., 0., 0., 0., 0., 0.],\n",
       "        [0., 0., 0., 0., 0., 0., 0., 0., 0.],\n",
       "        [0., 0., 0., 0., 0., 0., 0., 0., 0.],\n",
       "        [0., 0., 0., 0., 0., 0., 0., 0., 0.]], device='cuda:1')"
      ]
     },
     "execution_count": 6,
     "metadata": {},
     "output_type": "execute_result"
    }
   ],
   "source": [
    "#einsum verification\n",
    "# XtX\n",
    "Phi_einsum = torch.einsum('ji,jk->ik', data_X, data_X)\n",
    "Phi_matmul = torch.matmul(torch.transpose(data_X, 0, 1), data_X)\n",
    "Phi_einsum - Phi_matmul\n",
    "#success\n"
   ]
  },
  {
   "cell_type": "code",
   "execution_count": 9,
   "metadata": {},
   "outputs": [
    {
     "data": {
      "text/plain": [
       "tensor([[0., 0., 0.,  ..., 0., 0., 0.],\n",
       "        [0., 0., 0.,  ..., 0., 0., 0.],\n",
       "        [0., 0., 0.,  ..., 0., 0., 0.],\n",
       "        ...,\n",
       "        [0., 0., 0.,  ..., 0., 0., 0.],\n",
       "        [0., 0., 0.,  ..., 0., 0., 0.],\n",
       "        [0., 0., 0.,  ..., 0., 0., 0.]], device='cuda:1')"
      ]
     },
     "execution_count": 9,
     "metadata": {},
     "output_type": "execute_result"
    }
   ],
   "source": [
    "#einsum verification\n",
    "# XXt\n",
    "Phi_einsum = torch.einsum('ij,kj->ik', data_X, data_X)\n",
    "Phi_matmul = torch.matmul(data_X, torch.transpose(data_X, 0, 1))\n",
    "Phi_einsum - Phi_matmul\n",
    "#success"
   ]
  },
  {
   "cell_type": "code",
   "execution_count": 2,
   "metadata": {},
   "outputs": [
    {
     "name": "stdout",
     "output_type": "stream",
     "text": [
      "tensor(301518.5625, device='cuda:1')\n",
      "tensor(301518.5625, device='cuda:1')\n"
     ]
    }
   ],
   "source": [
    "# transpose verification\n",
    "data_X = torch.normal(0,1, [5000,9]).to(device)\n",
    "data_Y = torch.normal(0,1, [5000,9]).to(device)\n",
    "\n",
    "Phi = torch.einsum('ij,kj->ik', data_X, data_X)\n",
    "Psi = torch.einsum('ij,kj->ik', data_Y, data_Y)\n",
    "tr_matmul = torch.trace(torch.matmul(Phi, Psi))\n",
    "tr_sumsq = torch.sum(\n",
    "    torch.square(\n",
    "        torch.einsum('ji,jk->ik', data_X, data_Y)\n",
    "    )\n",
    ")\n",
    "print(tr_matmul)\n",
    "print(tr_sumsq)"
   ]
  },
  {
   "cell_type": "code",
   "execution_count": 6,
   "metadata": {},
   "outputs": [
    {
     "name": "stdout",
     "output_type": "stream",
     "text": [
      "tensor(4756153., device='cuda:1')\n"
     ]
    }
   ],
   "source": [
    "# transpose verification on large size\n",
    "data_X = torch.normal(0,1, [50000,9]).to(device)\n",
    "data_Y = torch.normal(0,1, [50000,9]).to(device)\n",
    "\n",
    "\n",
    "tr_sumsq = torch.sum(\n",
    "    torch.square(\n",
    "        torch.einsum('ji,jk->ik', data_X, data_Y)\n",
    "    )\n",
    ")\n",
    "print(tr_sumsq)"
   ]
  },
  {
   "cell_type": "code",
   "execution_count": 12,
   "metadata": {},
   "outputs": [
    {
     "name": "stdout",
     "output_type": "stream",
     "text": [
      "tensor([0.0000e+00, 0.0000e+00, 0.0000e+00,  ..., 1.9073e-06, 0.0000e+00,\n",
      "        4.7684e-07], device='cuda:1')\n",
      "tensor([10.3022, 11.7083,  4.3699,  ..., 24.5278,  6.1498,  5.9414],\n",
      "       device='cuda:1')\n",
      "tensor([10.3022, 11.7083,  4.3699,  ..., 24.5278,  6.1498,  5.9414],\n",
      "       device='cuda:1')\n"
     ]
    }
   ],
   "source": [
    "# diag Phi verification\n",
    "data_X = torch.normal(0,1, [5000,9]).to(device)\n",
    "\n",
    "Phi = torch.einsum('ij,kj->ik', data_X, data_X)\n",
    "Phi_diag_matmul = torch.diagonal(Phi)\n",
    "\n",
    "Phi_diag_sumsq = torch.sum( torch.square(data_X), axis = 1)\n",
    "print(Phi_diag_matmul - Phi_diag_sumsq)\n",
    "print(Phi_diag_matmul)\n",
    "print(Phi_diag_sumsq)\n",
    "\n",
    "#success"
   ]
  },
  {
   "cell_type": "code",
   "execution_count": 34,
   "metadata": {},
   "outputs": [
    {
     "name": "stdout",
     "output_type": "stream",
     "text": [
      "tensor(0., device='cuda:1')\n",
      "tensor(406992.8750, device='cuda:1')\n",
      "tensor(406992.8750, device='cuda:1')\n"
     ]
    }
   ],
   "source": [
    "# tr Phi diag Psi verification\n",
    "data_X = torch.normal(0,1, [5000,9]).to(device)\n",
    "data_Y = torch.normal(0,1, [5000,9]).to(device)\n",
    "\n",
    "\n",
    "Phi = torch.einsum('ij,kj->ik', data_X, data_X)\n",
    "Psi = torch.einsum('ij,kj->ik', data_Y, data_Y)\n",
    "\n",
    "trPhiDiagPsi_matmul = torch.trace(\n",
    "torch.matmul(\n",
    "    Phi,\n",
    "    torch.diag(torch.diagonal(Psi))\n",
    "))\n",
    " \n",
    "\n",
    "trPhiDiagPsi_sumsq = torch.inner(\n",
    "    torch.sum( torch.square(data_X), axis = 1),\n",
    "    torch.sum( torch.square(data_Y), axis = 1)\n",
    ")\n",
    "\n",
    "print(trPhiDiagPsi_matmul - trPhiDiagPsi_sumsq)\n",
    "print(trPhiDiagPsi_matmul)\n",
    "print(trPhiDiagPsi_sumsq)\n",
    "\n"
   ]
  },
  {
   "cell_type": "code",
   "execution_count": 42,
   "metadata": {},
   "outputs": [
    {
     "name": "stdout",
     "output_type": "stream",
     "text": [
      "tensor(-46376.3125, device='cuda:1')\n",
      "tensor(-46376.3750, device='cuda:1')\n",
      "tensor(0.0625, device='cuda:1')\n"
     ]
    }
   ],
   "source": [
    "#tr phi tilde psi tilde verification\n",
    "data_X = torch.normal(0,1, [5000,9]).to(device)\n",
    "data_Y = torch.normal(0,1, [5000,9]).to(device)\n",
    "\n",
    "Phi = torch.einsum('ij,kj->ik', data_X, data_X)\n",
    "Psi = torch.einsum('ij,kj->ik', data_Y, data_Y)\n",
    "Phi = Phi.fill_diagonal_(0.0)\n",
    "Psi = Psi.fill_diagonal_(0.0)\n",
    "tr_phi_tilde_psi_tilde_matmul = torch.trace( torch.matmul(Phi, Psi) )\n",
    "tr_phi_tilde_psi_tilde_sq = torch.sum(\n",
    "    torch.square(\n",
    "        torch.einsum('ji,jk->ik', data_X, data_Y)\n",
    "    )\n",
    ")- torch.inner(\n",
    "    torch.sum( torch.square(data_X), axis = 1),\n",
    "    torch.sum( torch.square(data_Y), axis = 1)\n",
    ")\n",
    "print(tr_phi_tilde_psi_tilde_matmul)\n",
    "print(tr_phi_tilde_psi_tilde_sq)\n",
    "print(tr_phi_tilde_psi_tilde_matmul - tr_phi_tilde_psi_tilde_sq)"
   ]
  },
  {
   "cell_type": "code",
   "execution_count": 31,
   "metadata": {},
   "outputs": [
    {
     "ename": "IndentationError",
     "evalue": "unindent does not match any outer indentation level (<tokenize>, line 18)",
     "output_type": "error",
     "traceback": [
      "\u001b[0;36m  File \u001b[0;32m<tokenize>:18\u001b[0;36m\u001b[0m\n\u001b[0;31m    Un = 4 * onePhioneonePsione\u001b[0m\n\u001b[0m    ^\u001b[0m\n\u001b[0;31mIndentationError\u001b[0m\u001b[0;31m:\u001b[0m unindent does not match any outer indentation level\n"
     ]
    }
   ],
   "source": [
    "    \n",
    "    \n",
    "    #matrices\n",
    "    \n",
    "\n",
    "    one = torch.ones(n, 1).to(self.cuda_device)\n",
    "    oneT = torch.transpose(one, 0, 1)\n",
    "\n",
    "        PhiPsi = torch.matmul(Phi, Psi)\n",
    "        trPhiPsi = torch.trace(PhiPsi)\n",
    "        \n",
    "        onePhiPsiOne = torch.matmul(oneT, torch.matmul(PhiPsi, one))\n",
    "\n",
    "        onePhione = torch.matmul(oneT, torch.matmul(Phi, one))\n",
    "        onePsione = torch.matmul(oneT, torch.matmul(Psi, one))\n",
    "        onePhioneonePsione = torch.matmul(onePhione, onePsione)\n",
    "\n",
    " \n",
    "\n",
    "   Un = 4 * onePhioneonePsione\n",
    "   - ( 8 * (n-1) ) * onePhiPsiOne\n",
    "   + ( 4 * (n - 1) * (n - 2) ) * trPhiPsi     \n",
    "        \n",
    "    return(Un/n_four)"
   ]
  },
  {
   "cell_type": "code",
   "execution_count": null,
   "metadata": {},
   "outputs": [],
   "source": [
    "torch.cuda.memory_allocated(device=device)"
   ]
  },
  {
   "cell_type": "code",
   "execution_count": null,
   "metadata": {},
   "outputs": [],
   "source": [
    "X_1 = torch.matmul(data_X, torch.transpose(data_X, 0, 1))\n",
    "X_2 = torch.einsum('ij,kj->ik', data_X, data_X)\n",
    "Phi = torch.einsum('ij,kj->ik', data_X, data_X)\n",
    "    Psi = torch.einsum('ij,kj->ik', data_Y, data_Y)\n",
    "    Phi = Phi.fill_diagonal_(0.0)\n",
    "    Psi = Psi.fill_diagonal_(0.0)"
   ]
  },
  {
   "cell_type": "markdown",
   "metadata": {},
   "source": [
    "term by term comparison"
   ]
  },
  {
   "cell_type": "code",
   "execution_count": 171,
   "metadata": {},
   "outputs": [],
   "source": [
    "\n",
    "def function1(data_X, data_Y):\n",
    "    n = data_X.size(dim=0)\n",
    "\n",
    "    # naive\n",
    "    Phi = torch.matmul(data_X, torch.transpose(data_X, 0, 1))\n",
    "    Psi = torch.matmul(data_Y, torch.transpose(data_Y, 0, 1))\n",
    "    \n",
    "    Phi = Phi.fill_diagonal_(0.0)\n",
    "    Psi = Psi.fill_diagonal_(0.0)\n",
    "    \n",
    "    n_four = n * (n-1) * (n-2) * (n-3)\n",
    "    one = torch.ones(n, 1).to(device)\n",
    "    oneT = torch.transpose(one, 0, 1)\n",
    "\n",
    "    PhiPsi = torch.matmul(Phi, Psi)\n",
    "    trPhiPsi = torch.trace(PhiPsi)\n",
    "    onePhiPsiOne = torch.matmul(oneT, torch.matmul(PhiPsi, one))\n",
    "\n",
    "    onePhione = torch.matmul(oneT, torch.matmul(Phi, one))\n",
    "    onePsione = torch.matmul(oneT, torch.matmul(Psi, one))\n",
    "    onePhioneonePsione = torch.matmul(onePhione, onePsione)\n",
    "    print(onePhioneonePsione)\n",
    "    print(onePhiPsiOne)\n",
    "    print(trPhiPsi)\n",
    "\n",
    "    Un = 4 * onePhioneonePsione- ( 8 * (n-1) ) * onePhiPsiOne+ ( 4 * (n-1) * (n-2) ) * trPhiPsi     \n",
    "    print(Un)\n",
    "\n",
    "    print(4 * onePhioneonePsione\n",
    "        - ( 8 * (n-1) ) * onePhiPsiOne\n",
    "        + ( 4 * (n-1) * (n-2) ) * trPhiPsi  )"
   ]
  },
  {
   "cell_type": "code",
   "execution_count": 175,
   "metadata": {},
   "outputs": [],
   "source": [
    "#data_X = torch.normal(0,1, [5000000,27]).to(device)\n",
    "#data_Y = torch.normal(0,1, [5000000,27]).to(device)\n",
    "def function2(data_X, data_Y):\n",
    "    n = data_X.size(dim = 0)\n",
    "    n_four = n * (n-1) * (n-2) * (n-3)\n",
    "    \n",
    "    X_row_sum = torch.sum(data_X, axis = 0)\n",
    "    Y_row_sum = torch.sum(data_Y, axis = 0)\n",
    "    phi_psi = torch.einsum('ji,jk->ik', data_X, data_Y)\n",
    "    diag_Phi = torch.sum(torch.square(data_X), axis = 1)\n",
    "    diag_Psi = torch.sum(torch.square(data_Y), axis = 1)\n",
    "    rowsum_Phi = torch.einsum('i,ji -> j', X_row_sum, data_X)\n",
    "    rowsum_Psi = torch.einsum('ij, j -> i', data_Y, Y_row_sum)\n",
    "\n",
    "    #1. one term\n",
    "    one_Phi_one = torch.inner(X_row_sum, X_row_sum)\n",
    "    one_Psi_one = torch.inner(Y_row_sum, Y_row_sum)\n",
    "    \n",
    "    tr_Phi = torch.sum(torch.square(data_X))\n",
    "    tr_Psi = torch.sum(torch.square(data_Y))\n",
    "    \n",
    "    one_Phi_tilde_one = one_Phi_one - tr_Phi\n",
    "    one_Psi_tilde_one = one_Psi_one - tr_Psi\n",
    "    \n",
    "    onePhioneonePsione = one_Phi_tilde_one * one_Psi_tilde_one\n",
    "\n",
    "\n",
    "    #2. one one term\n",
    "    onePhiPsiOne = torch.matmul(\n",
    "        torch.matmul(X_row_sum, phi_psi),\n",
    "        Y_row_sum)  + torch.inner(diag_Phi, diag_Psi)-torch.inner(rowsum_Phi, diag_Psi)-torch.inner(diag_Phi, rowsum_Psi)\n",
    "    \n",
    "    \n",
    "    #3. trace term\n",
    "    trPhiPsi = torch.sum( torch.square(phi_psi) ) - torch.inner(\n",
    "        torch.sum( torch.square(data_X), axis = 1),\n",
    "        torch.sum( torch.square(data_Y), axis = 1)\n",
    "    )\n",
    "\n",
    "    print(          4 * (onePhioneonePsione - 4 * onePhiPsiOne + 2 * trPhiPsi)\n",
    "            - 8 * (n-3) *(onePhiPsiOne - trPhiPsi)\n",
    "            + 4 * (n-3)*(n-2) * trPhiPsi)\n",
    "\n",
    "    print( 4 * onePhioneonePsione\n",
    "        - ( 8 * (n-1) ) * onePhiPsiOne\n",
    "        + ( 4 * (n-1) * (n-2) ) * trPhiPsi  )"
   ]
  },
  {
   "cell_type": "code",
   "execution_count": 176,
   "metadata": {},
   "outputs": [
    {
     "name": "stdout",
     "output_type": "stream",
     "text": [
      "tensor([[-12613546.]], device='cuda:1')\n",
      "tensor([[-100186.6094]], device='cuda:1')\n",
      "tensor(10019.0020, device='cuda:1')\n",
      "tensor([[1.0308e+10]], device='cuda:1')\n",
      "tensor([[1.0308e+10]], device='cuda:1')\n",
      "tensor(1.0308e+10, device='cuda:1')\n",
      "tensor(1.0308e+10, device='cuda:1')\n"
     ]
    }
   ],
   "source": [
    "data_X = torch.normal(0,1, [500,27]).to(device)\n",
    "data_Y = torch.normal(0,1, [500,27]).to(device)\n",
    "function1(data_X, data_Y)\n",
    "function2(data_X, data_Y)"
   ]
  },
  {
   "cell_type": "markdown",
   "metadata": {},
   "source": [
    "# Verification of functions"
   ]
  },
  {
   "cell_type": "code",
   "execution_count": 257,
   "metadata": {},
   "outputs": [],
   "source": [
    "def u_stat_indep_matrix(data_X, data_Y):\n",
    "    n = data_X.size(dim=0)\n",
    "\n",
    "    Phi = torch.matmul(data_X, torch.transpose(data_X, 0, 1))\n",
    "    Psi = torch.matmul(data_Y, torch.transpose(data_Y, 0, 1))\n",
    "    \n",
    "    Phi = Phi.fill_diagonal_(0.0)\n",
    "    Psi = Psi.fill_diagonal_(0.0)\n",
    "    \n",
    "    n_four = n * (n-1) * (n-2) * (n-3)\n",
    "    one = torch.ones(n, 1).to(device)\n",
    "    oneT = torch.transpose(one, 0, 1)\n",
    "\n",
    "    PhiPsi = torch.matmul(Phi, Psi)\n",
    "    trPhiPsi = torch.trace(PhiPsi)\n",
    "    onePhiPsiOne = torch.matmul(oneT, torch.matmul(PhiPsi, one))\n",
    "\n",
    "    onePhione = torch.matmul(oneT, torch.matmul(Phi, one))\n",
    "    onePsione = torch.matmul(oneT, torch.matmul(Psi, one))\n",
    "    onePhioneonePsione = torch.matmul(onePhione, onePsione)\n",
    "    \n",
    " \n",
    "    \n",
    "    Un = (\n",
    "        4 * (onePhioneonePsione - 4 * onePhiPsiOne + 2 * trPhiPsi)\n",
    "        - 8 * (n-3) *(onePhiPsiOne - trPhiPsi)\n",
    "        + 4 * (n-3)*(n-2) * trPhiPsi\n",
    "    )\n",
    "    return(Un/n_four)"
   ]
  },
  {
   "cell_type": "code",
   "execution_count": 262,
   "metadata": {},
   "outputs": [],
   "source": [
    "def u_stat_indep_matrix_efficient( data_X, data_Y):\n",
    "    #scalars\n",
    "    n = data_X.size(dim = 0)\n",
    "    #n_four = n * (n-1) * (n-2) * (n-3)\n",
    "    log_n_four = (\n",
    "        torch.log(torch.tensor(n))\n",
    "        +  \n",
    "        torch.log(torch.tensor(n-1))\n",
    "        +\n",
    "        torch.log(torch.tensor(n-2))\n",
    "        +\n",
    "        torch.log(torch.tensor(n-3))\n",
    "    )\n",
    "    \n",
    "    X_row_sum = torch.sum(data_X, axis = 0)\n",
    "    Y_row_sum = torch.sum(data_Y, axis = 0)\n",
    "    phi_psi = torch.einsum('ji,jk->ik', data_X, data_Y)\n",
    "    diag_Phi = torch.sum(torch.square(data_X), axis = 1)\n",
    "    diag_Psi = torch.sum(torch.square(data_Y), axis = 1)\n",
    "    rowsum_Phi = torch.einsum('i,ji -> j', X_row_sum, data_X)\n",
    "    rowsum_Psi = torch.einsum('ij, j -> i', data_Y, Y_row_sum)\n",
    "\n",
    "    #1. one term\n",
    "    one_Phi_one = torch.inner(X_row_sum, X_row_sum)\n",
    "    one_Psi_one = torch.inner(Y_row_sum, Y_row_sum)\n",
    "    \n",
    "    tr_Phi = torch.sum(torch.square(data_X))\n",
    "    tr_Psi = torch.sum(torch.square(data_Y))\n",
    "    \n",
    "    one_Phi_tilde_one = one_Phi_one - tr_Phi\n",
    "    one_Psi_tilde_one = one_Psi_one - tr_Psi\n",
    "    \n",
    "    onePhioneonePsione = one_Phi_tilde_one * one_Psi_tilde_one\n",
    "\n",
    "\n",
    "    #2. one one term\n",
    "    onePhiPsiOne = torch.matmul(\n",
    "        torch.matmul(X_row_sum, phi_psi),\n",
    "        Y_row_sum)  + torch.inner(diag_Phi, diag_Psi)-torch.inner(rowsum_Phi, diag_Psi)-torch.inner(diag_Phi, rowsum_Psi)\n",
    "    \n",
    "    \n",
    "    #3. trace term\n",
    "    trPhiPsi = torch.sum( torch.square(phi_psi) ) - torch.inner(\n",
    "        torch.sum( torch.square(data_X), axis = 1),\n",
    "        torch.sum( torch.square(data_Y), axis = 1)\n",
    "    )\n",
    "    \n",
    "    #print(onePhioneonePsione)\n",
    "    #print(onePhiPsiOne)\n",
    "    #print(trPhiPsi)\n",
    "    \n",
    "    sums = (\n",
    "        4 * onePhioneonePsione\n",
    "    - ( 8 * (n-1) ) * onePhiPsiOne\n",
    "    + ( 4 * (n-1) * (n-2) ) * trPhiPsi \n",
    "    )\n",
    "    \n",
    "    Un_sign = torch.sign(sums)\n",
    "    \n",
    "    abs_Un = torch.exp(torch.log(torch.abs(sums)) - log_n_four)\n",
    "    Un = Un_sign * abs_Un\n",
    "    print(Un)\n",
    "    \n",
    "    return(Un)\n",
    " "
   ]
  },
  {
   "cell_type": "code",
   "execution_count": 201,
   "metadata": {},
   "outputs": [],
   "source": [
    "def kernel_indep(fourchunk):\n",
    "    ip = torch.matmul(fourchunk, torch.transpose(fourchunk, 0, 1))\n",
    "    return(ip[0,1] + ip[2,3] - ip[0,2] - ip[1,3])\n",
    "\n",
    "def u_stat_indep_original(data_X, data_Y):\n",
    "    n = data_X.size(dim = 0)\n",
    "   # print(f\"number of calculation = {2*scipy.misc.comb(n,4) }\")\n",
    "    n_four = n * (n-1) * (n-2) * (n-3)\n",
    "    U_statistic = 0\n",
    "    for i in range(n):\n",
    "        set_j = set(range(n)) - {i}\n",
    "        for j in set_j:\n",
    "            set_k = set_j - {j}\n",
    "            for k in set_k:\n",
    "                set_r = set_k - {k}\n",
    "                for r in set_r:\n",
    "                    comb = [i,j,k,r]\n",
    "                    U_statistic = U_statistic + (\n",
    "                        kernel_indep(data_X[comb,]) * kernel_indep(data_Y[comb,])\n",
    "                        )/n_four\n",
    "    return(U_statistic)"
   ]
  },
  {
   "cell_type": "code",
   "execution_count": 274,
   "metadata": {},
   "outputs": [
    {
     "name": "stdout",
     "output_type": "stream",
     "text": [
      "tensor([[-3.3775]], device='cuda:1')\n",
      "tensor(-3.3775, device='cuda:1')\n",
      "tensor(-3.3775, device='cuda:1')\n"
     ]
    }
   ],
   "source": [
    "data_X = torch.normal(0,1, [5,3]).to(device)\n",
    "data_Y = torch.normal(0,1, [5,3]).to(device)\n",
    "print(u_stat_indep_matrix(data_X,data_Y))\n",
    "print(u_stat_indep_matrix_efficient(data_X, data_Y))\n"
   ]
  },
  {
   "cell_type": "code",
   "execution_count": 204,
   "metadata": {},
   "outputs": [
    {
     "name": "stdout",
     "output_type": "stream",
     "text": [
      "tensor(-2.0086, device='cuda:1')\n"
     ]
    }
   ],
   "source": [
    "print(u_stat_indep_original(data_X, data_Y))"
   ]
  },
  {
   "cell_type": "markdown",
   "metadata": {},
   "source": [
    "# large dataset validation"
   ]
  },
  {
   "cell_type": "code",
   "execution_count": 266,
   "metadata": {},
   "outputs": [
    {
     "name": "stdout",
     "output_type": "stream",
     "text": [
      "tensor(0.0015, device='cuda:1')\n"
     ]
    },
    {
     "data": {
      "text/plain": [
       "tensor(0.0015, device='cuda:1')"
      ]
     },
     "execution_count": 266,
     "metadata": {},
     "output_type": "execute_result"
    }
   ],
   "source": [
    "data_X = torch.normal(0,1, [100000,27]).to(device)\n",
    "data_Y = torch.normal(0,1, [100000,27]).to(device)\n",
    "u_stat_indep_matrix_efficient(data_X, data_Y)\n"
   ]
  },
  {
   "cell_type": "code",
   "execution_count": 213,
   "metadata": {},
   "outputs": [
    {
     "data": {
      "text/plain": [
       "27.631021115928547"
      ]
     },
     "execution_count": 213,
     "metadata": {},
     "output_type": "execute_result"
    }
   ],
   "source": [
    "np.log(1000000000000)"
   ]
  },
  {
   "cell_type": "code",
   "execution_count": 226,
   "metadata": {},
   "outputs": [
    {
     "data": {
      "text/plain": [
       "46.051701859880914"
      ]
     },
     "execution_count": 226,
     "metadata": {},
     "output_type": "execute_result"
    }
   ],
   "source": [
    "math.log(100000**4)"
   ]
  },
  {
   "cell_type": "code",
   "execution_count": null,
   "metadata": {},
   "outputs": [],
   "source": []
  },
  {
   "cell_type": "markdown",
   "metadata": {},
   "source": [
    "ddddd"
   ]
  },
  {
   "cell_type": "code",
   "execution_count": 275,
   "metadata": {},
   "outputs": [],
   "source": [
    "def u_stat_twosample(data, n_1):\n",
    "    n_2 = data.size(dim = 0) - n_1\n",
    "    data_x = data[ :n_1, ]\n",
    "    data_y = data[n_1: , ]\n",
    "        \n",
    "    # x only part\n",
    "    u_x = torch.matmul(data_x, torch.transpose(data_x, 0, 1))\n",
    "    u_x.fill_diagonal_(0)\n",
    "    u_x = torch.sum(u_x) / (n_1 * (n_1 - 1))\n",
    "        \n",
    "    # y only part\n",
    "    u_y = torch.matmul(data_y, torch.transpose(data_y, 0, 1))\n",
    "    u_y.fill_diagonal_(0)\n",
    "    u_y = torch.sum(u_y) / (n_2 * (n_2 - 1))\n",
    "\n",
    "    # x, y part\n",
    "    u_xy = torch.matmul(data_x, torch.transpose(data_y, 0, 1))\n",
    "    u_xy = torch.sum(u_xy) * ( 2 / (n_1 * n_2) )\n",
    "    return(u_x + u_y - u_xy)"
   ]
  },
  {
   "cell_type": "code",
   "execution_count": 291,
   "metadata": {},
   "outputs": [],
   "source": [
    "    \n",
    "\n",
    "def u_stat_twosample_efficient(data, n_1_int):\n",
    "    n_1 = torch.tensor(n_1_int)\n",
    "    n_2 = data.size(dim = 0) - n_1\n",
    "    data_X = data[ :n_1, ]\n",
    "    data_Y = data[n_1: , ]\n",
    "    \n",
    "    X_row_sum = torch.sum(data_X, axis = 0)\n",
    "    Y_row_sum = torch.sum(data_Y, axis = 0)\n",
    "    phi_psi = torch.einsum('ji,jk->ik', data_X, data_Y)\n",
    "\n",
    "   \n",
    "    one_Phi_one = torch.inner(X_row_sum, X_row_sum)\n",
    "    one_Psi_one = torch.inner(Y_row_sum, Y_row_sum)\n",
    "    \n",
    "    tr_Phi = torch.sum(torch.square(data_X))\n",
    "    tr_Psi = torch.sum(torch.square(data_Y))\n",
    "    \n",
    "    one_Phi_tilde_one = one_Phi_one - tr_Phi\n",
    "    one_Psi_tilde_one = one_Psi_one - tr_Psi\n",
    "    \n",
    "    onePhioneonePsione = one_Phi_tilde_one * one_Psi_tilde_one\n",
    "        \n",
    "    # x only part\n",
    "    sign_x = torch.sign(one_Phi_tilde_one)\n",
    "    abs_u_x = torch.exp(torch.log(torch.abs(one_Phi_tilde_one)) - torch.log(n_1) - torch.log(n_1 - 1) )\n",
    "    u_x = sign_x * abs_u_x\n",
    "    \n",
    "            \n",
    "    # y only part\n",
    "    sign_y = torch.sign(one_Psi_tilde_one)\n",
    "    \n",
    "    abs_u_y = torch.exp(torch.log(torch.abs(one_Psi_tilde_one)) - torch.log(n_2) - torch.log(n_2 - 1) )\n",
    "    u_y = sign_y * abs_u_y\n",
    "\n",
    "    # x, y part\n",
    "    cross = torch.inner(X_row_sum, Y_row_sum)\n",
    "    sign_cross = torch.sign(cross)\n",
    "    abs_cross = torch.exp(torch.log(torch.abs(cross)) +torch.log(torch.tensor(2))- torch.log(n_1) - torch.log(n_2) )\n",
    "    u_cross = sign_cross * abs_cross\n",
    "    \n",
    "    return(u_x + u_y - u_cross)"
   ]
  },
  {
   "cell_type": "code",
   "execution_count": 296,
   "metadata": {},
   "outputs": [
    {
     "name": "stdout",
     "output_type": "stream",
     "text": [
      "tensor(0.0060, device='cuda:1')\n",
      "tensor(0.0060, device='cuda:1')\n"
     ]
    }
   ],
   "source": [
    "data_X = torch.normal(0,1, [2000,27]).to(device)\n",
    "n_1 = 1000\n",
    "print(u_stat_twosample(data_X, n_1))\n",
    "print(u_stat_twosample_efficient(data_X, n_1))"
   ]
  }
 ],
 "metadata": {
  "kernelspec": {
   "display_name": "Python 3 (ipykernel)",
   "language": "python",
   "name": "python3"
  },
  "language_info": {
   "codemirror_mode": {
    "name": "ipython",
    "version": 3
   },
   "file_extension": ".py",
   "mimetype": "text/x-python",
   "name": "python",
   "nbconvert_exporter": "python",
   "pygments_lexer": "ipython3",
   "version": "3.8.13"
  },
  "vscode": {
   "interpreter": {
    "hash": "aee8b7b246df8f9039afb4144a1f6fd8d2ca17a180786b69acc140d282b71a49"
   }
  }
 },
 "nbformat": 4,
 "nbformat_minor": 4
}
