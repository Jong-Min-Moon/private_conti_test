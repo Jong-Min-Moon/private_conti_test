{
 "cells": [
  {
   "cell_type": "code",
   "execution_count": null,
   "metadata": {},
   "outputs": [],
   "source": [
    "   def u_stat_indep_matrix(self, data_X, data_Y):\n",
    "    n = data_X.size(dim=0)\n",
    "\n",
    "    Phi = torch.matmul(data_X, torch.transpose(data_X, 0, 1))\n",
    "    Psi = torch.matmul(data_Y, torch.transpose(data_Y, 0, 1))\n",
    "    \n",
    "    Phi_tilde = Phi.fill_diagonal_(0.0)\n",
    "        Psi_tilde = Psi.fill_diagonal_(0.0)\n",
    "        n_four = n * (n-1) * (n-2) * (n-3)\n",
    "        one = torch.ones(n, 1).to(device)\n",
    "        oneT = torch.transpose(one, 0, 1)\n",
    "\n",
    "        PhiPsi = torch.matmul(Phi, Psi)\n",
    "        trPhiPsi = torch.trace(PhiPsi)\n",
    "        onePhiPsiOne = torch.matmul(oneT, torch.matmul(PhiPsi, one))\n",
    "\n",
    "        onePhione = torch.matmul(oneT, torch.matmul(Phi, one))\n",
    "        onePsione = torch.matmul(oneT, torch.matmul(Psi, one))\n",
    "        onePhioneonePsione = torch.matmul(onePhione, onePsione)\n",
    "\n",
    "        Un = (\n",
    "          4 * (onePhioneonePsione - 4 * onePhiPsiOne + 2 * trPhiPsi)\n",
    "        - 8 * (n-3) *(onePhiPsiOne - trPhiPsi)\n",
    "        + 4 * (n-3)*(n-2) * trPhiPsi\n",
    "        )\n",
    "        \n",
    "        return(Un/n_four)\n",
    "\n",
    "\n"
   ]
  },
  {
   "cell_type": "code",
   "execution_count": null,
   "metadata": {},
   "outputs": [],
   "source": [
    "def u_stat_indep_matrix_efficient(self, data_X, data_Y):\n",
    "\n",
    "   #scalars\n",
    "   n = data_X.size(dim = 0)\n",
    "   n_four = n * (n-1) * (n-2) * (n-3)\n",
    "   \n",
    "   #matrices\n",
    "   Phi = torch.matmul(data_X, torch.transpose(data_X, 0, 1))\n",
    "   Psi = torch.matmul(data_Y, torch.transpose(data_Y, 0, 1))\n",
    "   Phi_tilde = Phi.fill_diagonal_(0.0)\n",
    "   Psi_tilde = Psi.fill_diagonal_(0.0)\n",
    "\n",
    "        one = torch.ones(n, 1).to(self.cuda_device)\n",
    "        oneT = torch.transpose(one, 0, 1)\n",
    "\n",
    "        PhiPsi = torch.matmul(Phi, Psi)\n",
    "        trPhiPsi = torch.trace(PhiPsi)\n",
    "        onePhiPsiOne = torch.matmul(oneT, torch.matmul(PhiPsi, one))\n",
    "\n",
    "        onePhione = torch.matmul(oneT, torch.matmul(Phi, one))\n",
    "        onePsione = torch.matmul(oneT, torch.matmul(Psi, one))\n",
    "        onePhioneonePsione = torch.matmul(onePhione, onePsione)\n",
    "\n",
    " \n",
    "\n",
    "   Un = 4 * onePhioneonePsione\n",
    "   - ( 16 + (8 * (n-3)) ) * onePhiPsiOne\n",
    "   + ( 8 + (8 * (n-3))  + (4 * (n-3)*(n-2)) ) * trPhiPsi     \n",
    "        \n",
    "        return(Un/n_four)"
   ]
  },
  {
   "cell_type": "code",
   "execution_count": null,
   "metadata": {},
   "outputs": [],
   "source": []
  },
  {
   "cell_type": "code",
   "execution_count": null,
   "metadata": {},
   "outputs": [],
   "source": [
    "    def u_stat_indep_original(self, data_X, data_Y):\n",
    "        n = data_X.size(dim = 0)\n",
    "        print(f\"number of calculation = {2*scipy.special.comb(n,4) }\")\n",
    "        n_four = n * (n-1) * (n-2) * (n-3)\n",
    "        U_statistic = 0\n",
    "        for i in range(n):\n",
    "            set_j = set(range(n)) - {i}\n",
    "            for j in set_j:\n",
    "                set_k = set_j - {j}\n",
    "                for k in set_k:\n",
    "                    set_r = set_k - {k}\n",
    "                    for r in set_r:\n",
    "                        comb = [i,j,k,r]\n",
    "                        U_statistic = U_statistic + (\n",
    "                            self.kernel_indep(data_X[comb,]) * self.kernel_indep(data_Y[comb,])\n",
    "                        )/n_four\n",
    "        return(U_statistic)"
   ]
  },
  {
   "cell_type": "code",
   "execution_count": null,
   "metadata": {},
   "outputs": [],
   "source": [
    "  #original form\n",
    "   #Un = (\n",
    "   #  4 * (onePhioneonePsione - 4 * onePhiPsiOne + 2 * trPhiPsi)\n",
    "   # - 8 * (n-3) *(onePhiPsiOne - trPhiPsi)\n",
    "   # + 4 * (n-3)*(n-2) * trPhiPsi\n",
    "   # )\n",
    "\n",
    "   # six terms\n",
    "   #Un = 4 * onePhioneonePsione\n",
    "   #- 16 * onePhiPsiOne\n",
    "   #+ 8  * trPhiPsi\n",
    "   #- 8 * (n-3) * onePhiPsiOne\n",
    "   #+ 8 * (n-3) * trPhiPsi\n",
    "   #+ 4 * (n-3)*(n-2) * trPhiPsi\n",
    "\n",
    "   # aggregate\n",
    "   # Un = 4 * onePhioneonePsione\n",
    "   # - ( 16 + (8 * (n-3)) ) * onePhiPsiOne\n",
    "   # + ( 8 + (8 * (n-3))  + (4 * (n-3)*(n-2)) ) * trPhiPsi"
   ]
  }
 ],
 "metadata": {
  "kernelspec": {
   "display_name": "Python 3.9.12 64-bit",
   "language": "python",
   "name": "python3"
  },
  "language_info": {
   "name": "python",
   "version": "3.9.12"
  },
  "orig_nbformat": 4,
  "vscode": {
   "interpreter": {
    "hash": "aee8b7b246df8f9039afb4144a1f6fd8d2ca17a180786b69acc140d282b71a49"
   }
  }
 },
 "nbformat": 4,
 "nbformat_minor": 2
}
